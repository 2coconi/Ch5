{
 "cells": [
  {
   "cell_type": "markdown",
   "metadata": {},
   "source": [
    "# Financial Planning with APIs and Simulations\n",
    "\n",
    "In this Challenge, you’ll create two financial analysis tools by using a single Jupyter notebook:\n",
    "\n",
    "Part 1: A financial planner for emergencies. The members will be able to use this tool to visualize their current savings. The members can then determine if they have enough reserves for an emergency fund.\n",
    "\n",
    "Part 2: A financial planner for retirement. This tool will forecast the performance of their retirement portfolio in 30 years. To do this, the tool will make an Alpaca API call via the Alpaca SDK to get historical price data for use in Monte Carlo simulations.\n",
    "\n",
    "You’ll use the information from the Monte Carlo simulation to answer questions about the portfolio in your Jupyter notebook.\n",
    "\n"
   ]
  },
  {
   "cell_type": "code",
   "execution_count": 2,
   "metadata": {},
   "outputs": [
    {
     "name": "stderr",
     "output_type": "stream",
     "text": [
      "\n",
      "Bad key text.latex.preview in file /Users/nicolemann/opt/anaconda3/envs/dev/lib/python3.7/site-packages/matplotlib/mpl-data/stylelib/_classic_test.mplstyle, line 123 ('text.latex.preview : False')\n",
      "You probably need to get an updated matplotlibrc file from\n",
      "https://github.com/matplotlib/matplotlib/blob/v3.5.0/matplotlibrc.template\n",
      "or from the matplotlib source distribution\n",
      "\n",
      "Bad key mathtext.fallback_to_cm in file /Users/nicolemann/opt/anaconda3/envs/dev/lib/python3.7/site-packages/matplotlib/mpl-data/stylelib/_classic_test.mplstyle, line 155 ('mathtext.fallback_to_cm : True  # When True, use symbols from the Computer Modern')\n",
      "You probably need to get an updated matplotlibrc file from\n",
      "https://github.com/matplotlib/matplotlib/blob/v3.5.0/matplotlibrc.template\n",
      "or from the matplotlib source distribution\n",
      "\n",
      "Bad key savefig.jpeg_quality in file /Users/nicolemann/opt/anaconda3/envs/dev/lib/python3.7/site-packages/matplotlib/mpl-data/stylelib/_classic_test.mplstyle, line 418 ('savefig.jpeg_quality: 95       # when a jpeg is saved, the default quality parameter.')\n",
      "You probably need to get an updated matplotlibrc file from\n",
      "https://github.com/matplotlib/matplotlib/blob/v3.5.0/matplotlibrc.template\n",
      "or from the matplotlib source distribution\n",
      "\n",
      "Bad key savefig.frameon in file /Users/nicolemann/opt/anaconda3/envs/dev/lib/python3.7/site-packages/matplotlib/mpl-data/stylelib/_classic_test.mplstyle, line 421 ('savefig.frameon : True')\n",
      "You probably need to get an updated matplotlibrc file from\n",
      "https://github.com/matplotlib/matplotlib/blob/v3.5.0/matplotlibrc.template\n",
      "or from the matplotlib source distribution\n",
      "\n",
      "Bad key verbose.level in file /Users/nicolemann/opt/anaconda3/envs/dev/lib/python3.7/site-packages/matplotlib/mpl-data/stylelib/_classic_test.mplstyle, line 472 ('verbose.level  : silent      # one of silent, helpful, debug, debug-annoying')\n",
      "You probably need to get an updated matplotlibrc file from\n",
      "https://github.com/matplotlib/matplotlib/blob/v3.5.0/matplotlibrc.template\n",
      "or from the matplotlib source distribution\n",
      "\n",
      "Bad key verbose.fileo in file /Users/nicolemann/opt/anaconda3/envs/dev/lib/python3.7/site-packages/matplotlib/mpl-data/stylelib/_classic_test.mplstyle, line 473 ('verbose.fileo  : sys.stdout  # a log filename, sys.stdout or sys.stderr')\n",
      "You probably need to get an updated matplotlibrc file from\n",
      "https://github.com/matplotlib/matplotlib/blob/v3.5.0/matplotlibrc.template\n",
      "or from the matplotlib source distribution\n",
      "\n",
      "Bad key keymap.all_axes in file /Users/nicolemann/opt/anaconda3/envs/dev/lib/python3.7/site-packages/matplotlib/mpl-data/stylelib/_classic_test.mplstyle, line 490 ('keymap.all_axes : a                 # enable all axes')\n",
      "You probably need to get an updated matplotlibrc file from\n",
      "https://github.com/matplotlib/matplotlib/blob/v3.5.0/matplotlibrc.template\n",
      "or from the matplotlib source distribution\n",
      "\n",
      "Bad key animation.avconv_path in file /Users/nicolemann/opt/anaconda3/envs/dev/lib/python3.7/site-packages/matplotlib/mpl-data/stylelib/_classic_test.mplstyle, line 501 ('animation.avconv_path: avconv     # Path to avconv binary. Without full path')\n",
      "You probably need to get an updated matplotlibrc file from\n",
      "https://github.com/matplotlib/matplotlib/blob/v3.5.0/matplotlibrc.template\n",
      "or from the matplotlib source distribution\n",
      "\n",
      "Bad key animation.avconv_args in file /Users/nicolemann/opt/anaconda3/envs/dev/lib/python3.7/site-packages/matplotlib/mpl-data/stylelib/_classic_test.mplstyle, line 503 ('animation.avconv_args:            # Additional arguments to pass to avconv')\n",
      "You probably need to get an updated matplotlibrc file from\n",
      "https://github.com/matplotlib/matplotlib/blob/v3.5.0/matplotlibrc.template\n",
      "or from the matplotlib source distribution\n"
     ]
    }
   ],
   "source": [
    "# Import the required libraries and dependencies\n",
    "import os\n",
    "import requests\n",
    "import json\n",
    "import pandas as pd\n",
    "from dotenv import load_dotenv\n",
    "import alpaca_trade_api as tradeapi\n",
    "from MCForecastTools import MCSimulation\n",
    "\n",
    "%matplotlib inline"
   ]
  },
  {
   "cell_type": "code",
   "execution_count": 3,
   "metadata": {},
   "outputs": [
    {
     "data": {
      "text/plain": [
       "True"
      ]
     },
     "execution_count": 3,
     "metadata": {},
     "output_type": "execute_result"
    }
   ],
   "source": [
    "# Load the environment variables from the .env file\n",
    "#by calling the load_dotenv function\n",
    "load_dotenv(\".env\")"
   ]
  },
  {
   "cell_type": "markdown",
   "metadata": {},
   "source": [
    "## Part 1: Create a Financial Planner for Emergencies"
   ]
  },
  {
   "cell_type": "markdown",
   "metadata": {},
   "source": [
    "### Evaluate the Cryptocurrency Wallet by Using the Requests Library\n",
    "\n",
    "In this section, you’ll determine the current value of a member’s cryptocurrency wallet. You’ll collect the current prices for the Bitcoin and Ethereum cryptocurrencies by using the Python Requests library. For the prototype, you’ll assume that the member holds the 1.2 Bitcoins (BTC) and 5.3 Ethereum coins (ETH). To do all this, complete the following steps:\n",
    "\n",
    "1. Create a variable named `monthly_income`, and set its value to `12000`.\n",
    "\n",
    "2. Use the Requests library to get the current price (in US dollars) of Bitcoin (BTC) and Ethereum (ETH) by using the API endpoints that the starter code supplies.\n",
    "\n",
    "3. Navigate the JSON response object to access the current price of each coin, and store each in a variable.\n",
    "\n",
    "    > **Hint** Note the specific identifier for each cryptocurrency in the API JSON response. The Bitcoin identifier is `1`, and the Ethereum identifier is `1027`.\n",
    "\n",
    "4. Calculate the value, in US dollars, of the current amount of each cryptocurrency and of the entire cryptocurrency wallet.\n",
    "\n"
   ]
  },
  {
   "cell_type": "code",
   "execution_count": 4,
   "metadata": {},
   "outputs": [],
   "source": [
    "# The current number of coins for each cryptocurrency asset held in the portfolio.\n",
    "btc_coins = 1.2\n",
    "eth_coins = 5.3"
   ]
  },
  {
   "cell_type": "markdown",
   "metadata": {},
   "source": [
    "#### Step 1: Create a variable named `monthly_income`, and set its value to `12000`."
   ]
  },
  {
   "cell_type": "code",
   "execution_count": 5,
   "metadata": {},
   "outputs": [],
   "source": [
    "# The monthly amount for the member's household income\n",
    "# YOUR CODE HERE\n",
    "monthly_income = 12000"
   ]
  },
  {
   "cell_type": "markdown",
   "metadata": {},
   "source": [
    "#### Review the endpoint URLs for the API calls to Free Crypto API in order to get the current pricing information for both BTC and ETH."
   ]
  },
  {
   "cell_type": "code",
   "execution_count": 6,
   "metadata": {},
   "outputs": [],
   "source": [
    "# The Free Crypto API Call endpoint URLs for the held cryptocurrency assets\n",
    "btc_url = \"https://api.alternative.me/v2/ticker/Bitcoin/?convert=USD\"\n",
    "eth_url = \"https://api.alternative.me/v2/ticker/Ethereum/?convert=USD\"\n"
   ]
  },
  {
   "cell_type": "markdown",
   "metadata": {},
   "source": [
    "#### Step 2. Use the Requests library to get the current price (in US dollars) of Bitcoin (BTC) and Ethereum (ETH) by using the API endpoints that the starter code supplied."
   ]
  },
  {
   "cell_type": "code",
   "execution_count": 7,
   "metadata": {},
   "outputs": [
    {
     "name": "stdout",
     "output_type": "stream",
     "text": [
      "{\n",
      "    \"data\": {\n",
      "        \"1\": {\n",
      "            \"circulating_supply\": 18944562,\n",
      "            \"id\": 1,\n",
      "            \"last_updated\": 1643599122,\n",
      "            \"max_supply\": 21000000,\n",
      "            \"name\": \"Bitcoin\",\n",
      "            \"quotes\": {\n",
      "                \"USD\": {\n",
      "                    \"market_cap\": 701183260873,\n",
      "                    \"percent_change_1h\": 0.50957822128436,\n",
      "                    \"percent_change_24h\": -2.48693800291056,\n",
      "                    \"percent_change_7d\": 2.24915757971402,\n",
      "                    \"percentage_change_1h\": 0.50957822128436,\n",
      "                    \"percentage_change_24h\": -2.48693800291056,\n",
      "                    \"percentage_change_7d\": 2.24915757971402,\n",
      "                    \"price\": 37123.0,\n",
      "                    \"volume_24h\": 12941318135\n",
      "                }\n",
      "            },\n",
      "            \"rank\": 1,\n",
      "            \"symbol\": \"BTC\",\n",
      "            \"total_supply\": 18944562,\n",
      "            \"website_slug\": \"bitcoin\"\n",
      "        }\n",
      "    },\n",
      "    \"metadata\": {\n",
      "        \"error\": null,\n",
      "        \"num_cryptocurrencies\": 3105,\n",
      "        \"timestamp\": 1643599122\n",
      "    }\n",
      "}\n"
     ]
    }
   ],
   "source": [
    "# Using the Python requests library, make an API call to access the current price of BTC\n",
    "btc_response = requests.get(btc_url).json()\n",
    "\n",
    "\n",
    "# Use the json.dumps function to review the response data from the API call\n",
    "# Use the indent and sort_keys parameters to make the response object readable\n",
    "# YOUR CODE HERE\n",
    "print(json.dumps(btc_response, indent=4, sort_keys = True))\n"
   ]
  },
  {
   "cell_type": "code",
   "execution_count": 8,
   "metadata": {},
   "outputs": [
    {
     "name": "stdout",
     "output_type": "stream",
     "text": [
      "{\n",
      "    \"data\": {\n",
      "        \"1\": {\n",
      "            \"circulating_supply\": 18944562,\n",
      "            \"id\": 1,\n",
      "            \"last_updated\": 1643599122,\n",
      "            \"max_supply\": 21000000,\n",
      "            \"name\": \"Bitcoin\",\n",
      "            \"quotes\": {\n",
      "                \"USD\": {\n",
      "                    \"market_cap\": 701183260873,\n",
      "                    \"percent_change_1h\": 0.50957822128436,\n",
      "                    \"percent_change_24h\": -2.48693800291056,\n",
      "                    \"percent_change_7d\": 2.24915757971402,\n",
      "                    \"percentage_change_1h\": 0.50957822128436,\n",
      "                    \"percentage_change_24h\": -2.48693800291056,\n",
      "                    \"percentage_change_7d\": 2.24915757971402,\n",
      "                    \"price\": 37123.0,\n",
      "                    \"volume_24h\": 12941318135\n",
      "                }\n",
      "            },\n",
      "            \"rank\": 1,\n",
      "            \"symbol\": \"BTC\",\n",
      "            \"total_supply\": 18944562,\n",
      "            \"website_slug\": \"bitcoin\"\n",
      "        }\n",
      "    },\n",
      "    \"metadata\": {\n",
      "        \"error\": null,\n",
      "        \"num_cryptocurrencies\": 3105,\n",
      "        \"timestamp\": 1643599122\n",
      "    }\n",
      "}\n"
     ]
    }
   ],
   "source": [
    "# Using the Python requests library, make an API call to access the current price ETH\n",
    "eth_response = requests.get(btc_url).json()\n",
    "\n",
    "# Use the json.dumps function to review the response data from the API call\n",
    "# Use the indent and sort_keys parameters to make the response object readable\n",
    "# YOUR CODE HERE\n",
    "print(json.dumps(eth_response, indent=4, sort_keys = True))"
   ]
  },
  {
   "cell_type": "markdown",
   "metadata": {},
   "source": [
    "#### Step 3: Navigate the JSON response object to access the current price of each coin, and store each in a variable."
   ]
  },
  {
   "cell_type": "code",
   "execution_count": 9,
   "metadata": {},
   "outputs": [
    {
     "data": {
      "text/plain": [
       "37123.0"
      ]
     },
     "execution_count": 9,
     "metadata": {},
     "output_type": "execute_result"
    }
   ],
   "source": [
    "# Navigate the BTC response object to access the current price of BTC\n",
    "btc_price = btc_response[\"data\"][\"1\"][\"quotes\"][\"USD\"][\"price\"]\n",
    "\n",
    "# Print the current price of BTC\n",
    "# YOUR CODE HERE\n",
    "btc_price"
   ]
  },
  {
   "cell_type": "code",
   "execution_count": 10,
   "metadata": {},
   "outputs": [
    {
     "name": "stdout",
     "output_type": "stream",
     "text": [
      "37123.0\n"
     ]
    }
   ],
   "source": [
    "# Navigate the BTC response object to access the current price of ETH\n",
    "eth_price = eth_response[\"data\"][\"1\"][\"quotes\"][\"USD\"][\"price\"]\n",
    "\n",
    "# Print the current price of ETH\n",
    "# YOUR CODE HERE\n",
    "print(eth_price)"
   ]
  },
  {
   "cell_type": "markdown",
   "metadata": {},
   "source": [
    "### Step 4: Calculate the value, in US dollars, of the current amount of each cryptocurrency and of the entire cryptocurrency wallet."
   ]
  },
  {
   "cell_type": "code",
   "execution_count": 11,
   "metadata": {},
   "outputs": [
    {
     "data": {
      "text/plain": [
       "44547.6"
      ]
     },
     "execution_count": 11,
     "metadata": {},
     "output_type": "execute_result"
    }
   ],
   "source": [
    "# Compute the current value of the BTC holding \n",
    "btc_value = btc_coins * btc_price\n",
    "\n",
    "# Print current value of your holding in BTC\n",
    "# YOUR CODE HERE\n",
    "btc_value"
   ]
  },
  {
   "cell_type": "code",
   "execution_count": 12,
   "metadata": {},
   "outputs": [
    {
     "data": {
      "text/plain": [
       "196751.9"
      ]
     },
     "execution_count": 12,
     "metadata": {},
     "output_type": "execute_result"
    }
   ],
   "source": [
    "# Compute the current value of the ETH holding \n",
    "eth_value = eth_coins * eth_price\n",
    "\n",
    "# Print current value of your holding in ETH\n",
    "# YOUR CODE HERE\n",
    "eth_value"
   ]
  },
  {
   "cell_type": "code",
   "execution_count": 13,
   "metadata": {},
   "outputs": [
    {
     "name": "stdout",
     "output_type": "stream",
     "text": [
      "Total Crypto wallet value:$ 241299.50\n"
     ]
    }
   ],
   "source": [
    "# Compute the total value of the cryptocurrency wallet\n",
    "# Add the value of the BTC holding to the value of the ETH holding\n",
    "total_crypto_wallet = btc_value + eth_value\n",
    "\n",
    "# Print current cryptocurrency wallet balance\n",
    "# YOUR CODE HERE\n",
    "print(f\"Total Crypto wallet value:$ {total_crypto_wallet:0.2f}\")"
   ]
  },
  {
   "cell_type": "markdown",
   "metadata": {},
   "source": [
    "### Evaluate the Stock and Bond Holdings by Using the Alpaca SDK\n",
    "\n",
    "In this section, you’ll determine the current value of a member’s stock and bond holdings. You’ll make an API call to Alpaca via the Alpaca SDK to get the current closing prices of the SPDR S&P 500 ETF Trust (ticker: SPY) and of the iShares Core US Aggregate Bond ETF (ticker: AGG). For the prototype, assume that the member holds 110 shares of SPY, which represents the stock portion of their portfolio, and 200 shares of AGG, which represents the bond portion. To do all this, complete the following steps:\n",
    "\n",
    "1. In the `Starter_Code` folder, create an environment file (`.env`) to store the values of your Alpaca API key and Alpaca secret key.\n",
    "\n",
    "2. Set the variables for the Alpaca API and secret keys. Using the Alpaca SDK, create the Alpaca `tradeapi.REST` object. In this object, include the parameters for the Alpaca API key, the secret key, and the version number.\n",
    "\n",
    "3. Set the following parameters for the Alpaca API call:\n",
    "\n",
    "    - `tickers`: Use the tickers for the member’s stock and bond holdings.\n",
    "\n",
    "    - `timeframe`: Use a time frame of one day.\n",
    "\n",
    "    - `start_date` and `end_date`: Use the same date for these parameters, and format them with the date of the previous weekday (or `2020-08-07`). This is because you want the one closing price for the most-recent trading day.\n",
    "\n",
    "4. Get the current closing prices for `SPY` and `AGG` by using the Alpaca `get_barset` function. Format the response as a Pandas DataFrame by including the `df` property at the end of the `get_barset` function.\n",
    "\n",
    "5. Navigating the Alpaca response DataFrame, select the `SPY` and `AGG` closing prices, and store them as variables.\n",
    "\n",
    "6. Calculate the value, in US dollars, of the current amount of shares in each of the stock and bond portions of the portfolio, and print the results.\n"
   ]
  },
  {
   "cell_type": "markdown",
   "metadata": {},
   "source": [
    "#### Review the total number of shares held in both (SPY) and (AGG)."
   ]
  },
  {
   "cell_type": "code",
   "execution_count": 14,
   "metadata": {},
   "outputs": [],
   "source": [
    "# Current amount of shares held in both the stock (SPY) and bond (AGG) portion of the portfolio.\n",
    "spy_shares = 110\n",
    "agg_shares = 200\n"
   ]
  },
  {
   "cell_type": "markdown",
   "metadata": {},
   "source": [
    "#### Step 1: In the `Starter_Code` folder, create an environment file (`.env`) to store the values of your Alpaca API key and Alpaca secret key."
   ]
  },
  {
   "cell_type": "markdown",
   "metadata": {},
   "source": [
    "#### Step 2: Set the variables for the Alpaca API and secret keys. Using the Alpaca SDK, create the Alpaca `tradeapi.REST` object. In this object, include the parameters for the Alpaca API key, the secret key, and the version number."
   ]
  },
  {
   "cell_type": "code",
   "execution_count": 15,
   "metadata": {},
   "outputs": [],
   "source": [
    "# Set the variables for the Alpaca API and secret keys\n",
    "alpaca_api_key = os.getenv(\"ALPACA_API_KEY\")\n",
    "alpaca_secret_key = os.getenv(\"ALPACA_SECRET_KEY\")\n",
    "\n",
    "# Create the Alpaca tradeapi.REST object\n",
    "# YOUR CODE HERE\n",
    "alpaca = tradeapi.REST(\n",
    "    alpaca_api_key,\n",
    "    alpaca_secret_key,\n",
    "    api_version = \"v2\")\n",
    "    "
   ]
  },
  {
   "cell_type": "markdown",
   "metadata": {},
   "source": [
    "#### Step 3: Set the following parameters for the Alpaca API call:\n",
    "\n",
    "- `tickers`: Use the tickers for the member’s stock and bond holdings.\n",
    "\n",
    "- `timeframe`: Use a time frame of one day.\n",
    "\n",
    "- `start_date` and `end_date`: Use the same date for these parameters, and format them with the date of the previous weekday (or `2020-08-07`). This is because you want the one closing price for the most-recent trading day.\n"
   ]
  },
  {
   "cell_type": "code",
   "execution_count": 16,
   "metadata": {},
   "outputs": [],
   "source": [
    "# Set the tickers for both the bond and stock portion of the portfolio\n",
    "tickers = [\"SPY\",\"AGG\"]\n",
    "\n",
    "# Set timeframe to 1D \n",
    "# YOUR CODE HERE\n",
    "timeframe = \"1D\"\n",
    "\n",
    "# Format current date as ISO format\n",
    "# Set both the start and end date at the date of your prior weekday \n",
    "# This will give you the closing price of the previous trading day\n",
    "# Alternatively you can use a start and end date of 2020-08-07\n",
    "# YOUR CODE HERE\n",
    "# YOUR CODE HERE\n",
    "start_date = pd.Timestamp(\"2020-08-06\", tz=\"America/New_York\").isoformat()\n",
    "end_date = pd.Timestamp(\"2020-08-07\", tz=\"America/New_York\").isoformat()\n"
   ]
  },
  {
   "cell_type": "code",
   "execution_count": 17,
   "metadata": {},
   "outputs": [
    {
     "data": {
      "text/plain": [
       "'2020-08-07T00:00:00-04:00'"
      ]
     },
     "execution_count": 17,
     "metadata": {},
     "output_type": "execute_result"
    }
   ],
   "source": [
    "end_date"
   ]
  },
  {
   "cell_type": "markdown",
   "metadata": {},
   "source": [
    "#### Step 4: Get the current closing prices for `SPY` and `AGG` by using the Alpaca `get_barset` function. Format the response as a Pandas DataFrame by including the `df` property at the end of the `get_barset` function."
   ]
  },
  {
   "cell_type": "code",
   "execution_count": 18,
   "metadata": {},
   "outputs": [
    {
     "data": {
      "text/html": [
       "<div>\n",
       "<style scoped>\n",
       "    .dataframe tbody tr th:only-of-type {\n",
       "        vertical-align: middle;\n",
       "    }\n",
       "\n",
       "    .dataframe tbody tr th {\n",
       "        vertical-align: top;\n",
       "    }\n",
       "\n",
       "    .dataframe thead tr th {\n",
       "        text-align: left;\n",
       "    }\n",
       "\n",
       "    .dataframe thead tr:last-of-type th {\n",
       "        text-align: right;\n",
       "    }\n",
       "</style>\n",
       "<table border=\"1\" class=\"dataframe\">\n",
       "  <thead>\n",
       "    <tr>\n",
       "      <th></th>\n",
       "      <th colspan=\"5\" halign=\"left\">AGG</th>\n",
       "      <th colspan=\"5\" halign=\"left\">SPY</th>\n",
       "    </tr>\n",
       "    <tr>\n",
       "      <th></th>\n",
       "      <th>open</th>\n",
       "      <th>high</th>\n",
       "      <th>low</th>\n",
       "      <th>close</th>\n",
       "      <th>volume</th>\n",
       "      <th>open</th>\n",
       "      <th>high</th>\n",
       "      <th>low</th>\n",
       "      <th>close</th>\n",
       "      <th>volume</th>\n",
       "    </tr>\n",
       "    <tr>\n",
       "      <th>time</th>\n",
       "      <th></th>\n",
       "      <th></th>\n",
       "      <th></th>\n",
       "      <th></th>\n",
       "      <th></th>\n",
       "      <th></th>\n",
       "      <th></th>\n",
       "      <th></th>\n",
       "      <th></th>\n",
       "      <th></th>\n",
       "    </tr>\n",
       "  </thead>\n",
       "  <tbody>\n",
       "    <tr>\n",
       "      <th>2020-08-06 00:00:00-04:00</th>\n",
       "      <td>119.62</td>\n",
       "      <td>119.73</td>\n",
       "      <td>119.530</td>\n",
       "      <td>119.580</td>\n",
       "      <td>9009216</td>\n",
       "      <td>331.4799</td>\n",
       "      <td>334.46</td>\n",
       "      <td>331.13</td>\n",
       "      <td>334.31</td>\n",
       "      <td>76900649</td>\n",
       "    </tr>\n",
       "    <tr>\n",
       "      <th>2020-08-07 00:00:00-04:00</th>\n",
       "      <td>119.66</td>\n",
       "      <td>119.73</td>\n",
       "      <td>119.395</td>\n",
       "      <td>119.445</td>\n",
       "      <td>8830420</td>\n",
       "      <td>333.2800</td>\n",
       "      <td>334.88</td>\n",
       "      <td>332.30</td>\n",
       "      <td>334.55</td>\n",
       "      <td>98710236</td>\n",
       "    </tr>\n",
       "  </tbody>\n",
       "</table>\n",
       "</div>"
      ],
      "text/plain": [
       "                              AGG                                     \\\n",
       "                             open    high      low    close   volume   \n",
       "time                                                                   \n",
       "2020-08-06 00:00:00-04:00  119.62  119.73  119.530  119.580  9009216   \n",
       "2020-08-07 00:00:00-04:00  119.66  119.73  119.395  119.445  8830420   \n",
       "\n",
       "                                SPY                                    \n",
       "                               open    high     low   close    volume  \n",
       "time                                                                   \n",
       "2020-08-06 00:00:00-04:00  331.4799  334.46  331.13  334.31  76900649  \n",
       "2020-08-07 00:00:00-04:00  333.2800  334.88  332.30  334.55  98710236  "
      ]
     },
     "execution_count": 18,
     "metadata": {},
     "output_type": "execute_result"
    }
   ],
   "source": [
    "# Use the Alpaca get_barset function to get current closing prices the portfolio\n",
    "# Be sure to set the `df` property after the function to format the response object as a DataFrame\n",
    "# YOUR CODE HERE\n",
    "portfolio_prices = alpaca.get_barset(\n",
    "    tickers,\n",
    "    timeframe,\n",
    "    start = start_date,\n",
    "    end = end_date\n",
    ").df\n",
    "\n",
    "# Review the first 5 rows of the Alpaca DataFrame\n",
    "# YOUR CODE HERE\n",
    "portfolio_prices.head()\n"
   ]
  },
  {
   "cell_type": "markdown",
   "metadata": {},
   "source": [
    "#### Step 5: Navigating the Alpaca response DataFrame, select the `SPY` and `AGG` closing prices, and store them as variables."
   ]
  },
  {
   "cell_type": "code",
   "execution_count": 19,
   "metadata": {},
   "outputs": [
    {
     "name": "stdout",
     "output_type": "stream",
     "text": [
      "AGG Closing Price is $ 119.58.\n"
     ]
    }
   ],
   "source": [
    "# Access the closing price for AGG from the Alpaca DataFrame\n",
    "# Converting the value to a floating point number\n",
    "agg_close_price = float(portfolio_prices[\"AGG\"][\"close\"][0])\n",
    "\n",
    "# Print the AGG closing price\n",
    "# YOUR CODE HERE\n",
    "print(f\"AGG Closing Price is $ {agg_close_price}.\")"
   ]
  },
  {
   "cell_type": "code",
   "execution_count": 20,
   "metadata": {},
   "outputs": [
    {
     "name": "stdout",
     "output_type": "stream",
     "text": [
      "SPY Closing Price is $ 334.31.\n"
     ]
    }
   ],
   "source": [
    "# Access the closing price for SPY from the Alpaca DataFrame\n",
    "# Converting the value to a floating point number\n",
    "spy_close_price = float(portfolio_prices[\"SPY\"][\"close\"][0])\n",
    "\n",
    "# Print the SPY closing price\n",
    "# YOUR CODE HERE\n",
    "print(f\"SPY Closing Price is $ {spy_close_price}.\")"
   ]
  },
  {
   "cell_type": "markdown",
   "metadata": {},
   "source": [
    "#### Step 6: Calculate the value, in US dollars, of the current amount of shares in each of the stock and bond portions of the portfolio, and print the results."
   ]
  },
  {
   "cell_type": "code",
   "execution_count": 21,
   "metadata": {},
   "outputs": [
    {
     "name": "stdout",
     "output_type": "stream",
     "text": [
      " AGG value is $23916.0.\n"
     ]
    }
   ],
   "source": [
    "# Calculate the current value of the bond portion of the portfolio\n",
    "agg_value = agg_close_price * agg_shares\n",
    "\n",
    "# Print the current value of the bond portfolio\n",
    "# YOUR CODE HERE\n",
    "print(f\" AGG value is ${agg_value}.\")\n"
   ]
  },
  {
   "cell_type": "code",
   "execution_count": 22,
   "metadata": {},
   "outputs": [
    {
     "name": "stdout",
     "output_type": "stream",
     "text": [
      " SPY value is $36774.1.\n"
     ]
    }
   ],
   "source": [
    "# Calculate the current value of the stock portion of the portfolio\n",
    "spy_value = spy_close_price * spy_shares\n",
    "\n",
    "# Print the current value of the stock portfolio\n",
    "# YOUR CODE HERE\n",
    "print(f\" SPY value is ${spy_value}.\")\n"
   ]
  },
  {
   "cell_type": "code",
   "execution_count": 23,
   "metadata": {},
   "outputs": [
    {
     "data": {
      "text/plain": [
       "60690.1"
      ]
     },
     "execution_count": 23,
     "metadata": {},
     "output_type": "execute_result"
    }
   ],
   "source": [
    "# Calculate the total value of the stock and bond portion of the portfolio\n",
    "total_stocks_bonds =  agg_value + spy_value\n",
    "\n",
    "# Print the current balance of the stock and bond portion of the portfolio\n",
    "# YOUR CODE HERE\n",
    "total_stocks_bonds"
   ]
  },
  {
   "cell_type": "code",
   "execution_count": 24,
   "metadata": {},
   "outputs": [
    {
     "data": {
      "text/plain": [
       "301989.6"
      ]
     },
     "execution_count": 24,
     "metadata": {},
     "output_type": "execute_result"
    }
   ],
   "source": [
    "# Calculate the total value of the member's entire savings portfolio\n",
    "# Add the value of the cryptocurrency walled to the value of the total stocks and bonds\n",
    "total_portfolio = total_stocks_bonds + total_crypto_wallet\n",
    "\n",
    "# Print current cryptocurrency wallet balance\n",
    "# YOUR CODE HERE\n",
    "total_portfolio\n"
   ]
  },
  {
   "cell_type": "markdown",
   "metadata": {},
   "source": [
    "### Evaluate the Emergency Fund\n",
    "\n",
    "In this section, you’ll use the valuations for the cryptocurrency wallet and for the stock and bond portions of the portfolio to determine if the credit union member has enough savings to build an emergency fund into their financial plan. To do this, complete the following steps:\n",
    "\n",
    "1. Create a Python list named `savings_data` that has two elements. The first element contains the total value of the cryptocurrency wallet. The second element contains the total value of the stock and bond portions of the portfolio.\n",
    "\n",
    "2. Use the `savings_data` list to create a Pandas DataFrame named `savings_df`, and then display this DataFrame. The function to create the DataFrame should take the following three parameters:\n",
    "\n",
    "    - `savings_data`: Use the list that you just created.\n",
    "\n",
    "    - `columns`: Set this parameter equal to a Python list with a single value called `amount`.\n",
    "\n",
    "    - `index`: Set this parameter equal to a Python list with the values of `crypto` and `stock/bond`.\n",
    "\n",
    "3. Use the `savings_df` DataFrame to plot a pie chart that visualizes the composition of the member’s portfolio. The y-axis of the pie chart uses `amount`. Be sure to add a title.\n",
    "\n",
    "4. Using Python, determine if the current portfolio has enough to create an emergency fund as part of the member’s financial plan. Ideally, an emergency fund should equal to three times the member’s monthly income. To do this, implement the following steps:\n",
    "\n",
    "    1. Create a variable named `emergency_fund_value`, and set it equal to three times the value of the member’s `monthly_income` of $12000. (You set this earlier in Part 1).\n",
    "\n",
    "    2. Create a series of three if statements to determine if the member’s total portfolio is large enough to fund the emergency portfolio:\n",
    "\n",
    "        1. If the total portfolio value is greater than the emergency fund value, display a message congratulating the member for having enough money in this fund.\n",
    "\n",
    "        2. Else if the total portfolio value is equal to the emergency fund value, display a message congratulating the member on reaching this important financial goal.\n",
    "\n",
    "        3. Else the total portfolio is less than the emergency fund value, so display a message showing how many dollars away the member is from reaching the goal. (Subtract the total portfolio value from the emergency fund value.)\n"
   ]
  },
  {
   "cell_type": "markdown",
   "metadata": {},
   "source": [
    "#### Step 1: Create a Python list named `savings_data` that has two elements. The first element contains the total value of the cryptocurrency wallet. The second element contains the total value of the stock and bond portions of the portfolio."
   ]
  },
  {
   "cell_type": "code",
   "execution_count": 25,
   "metadata": {},
   "outputs": [
    {
     "data": {
      "text/plain": [
       "[60690.1, 241299.5]"
      ]
     },
     "execution_count": 25,
     "metadata": {},
     "output_type": "execute_result"
    }
   ],
   "source": [
    "# Consolidate financial assets data into a Python list\n",
    "# YOUR CODE HERE\n",
    "savings_data = [total_stocks_bonds , total_crypto_wallet]\n",
    "\n",
    "\n",
    "# Review the Python list savings_data\n",
    "# YOUR CODE HERE\n",
    "savings_data    "
   ]
  },
  {
   "cell_type": "markdown",
   "metadata": {},
   "source": [
    "#### Step 2: Use the `savings_data` list to create a Pandas DataFrame named `savings_df`, and then display this DataFrame. The function to create the DataFrame should take the following three parameters:\n",
    "\n",
    "- `savings_data`: Use the list that you just created.\n",
    "\n",
    "- `columns`: Set this parameter equal to a Python list with a single value called `amount`.\n",
    "\n",
    "- `index`: Set this parameter equal to a Python list with the values of `crypto` and `stock/bond`.\n"
   ]
  },
  {
   "cell_type": "code",
   "execution_count": 26,
   "metadata": {},
   "outputs": [
    {
     "data": {
      "text/html": [
       "<div>\n",
       "<style scoped>\n",
       "    .dataframe tbody tr th:only-of-type {\n",
       "        vertical-align: middle;\n",
       "    }\n",
       "\n",
       "    .dataframe tbody tr th {\n",
       "        vertical-align: top;\n",
       "    }\n",
       "\n",
       "    .dataframe thead th {\n",
       "        text-align: right;\n",
       "    }\n",
       "</style>\n",
       "<table border=\"1\" class=\"dataframe\">\n",
       "  <thead>\n",
       "    <tr style=\"text-align: right;\">\n",
       "      <th></th>\n",
       "      <th>amount</th>\n",
       "    </tr>\n",
       "  </thead>\n",
       "  <tbody>\n",
       "    <tr>\n",
       "      <th>crypto</th>\n",
       "      <td>60690.1</td>\n",
       "    </tr>\n",
       "    <tr>\n",
       "      <th>stock/bond</th>\n",
       "      <td>241299.5</td>\n",
       "    </tr>\n",
       "  </tbody>\n",
       "</table>\n",
       "</div>"
      ],
      "text/plain": [
       "              amount\n",
       "crypto       60690.1\n",
       "stock/bond  241299.5"
      ]
     },
     "metadata": {},
     "output_type": "display_data"
    }
   ],
   "source": [
    "# Create a Pandas DataFrame called savings_df \n",
    "# YOUR CODE HERE\n",
    "savings_df = pd.DataFrame(savings_data, columns = [\"amount\"], index = [ \"crypto\", \"stock/bond\"]\n",
    "                         )\n",
    "\n",
    "# Display the savings_df DataFrame\n",
    "# YOUR CODE HERE\n",
    "display(savings_df)"
   ]
  },
  {
   "cell_type": "markdown",
   "metadata": {},
   "source": [
    "#### Step 3: Use the `savings_df` DataFrame to plot a pie chart that visualizes the composition of the member’s portfolio. The y-axis of the pie chart uses `amount`. Be sure to add a title."
   ]
  },
  {
   "cell_type": "code",
   "execution_count": 27,
   "metadata": {},
   "outputs": [
    {
     "data": {
      "text/plain": [
       "<AxesSubplot:title={'center':'Total Porfolio'}, ylabel='amount'>"
      ]
     },
     "execution_count": 27,
     "metadata": {},
     "output_type": "execute_result"
    },
    {
     "data": {
      "image/png": "[encoded data removed]",
      "text/plain": [
       "<Figure size 432x288 with 1 Axes>"
      ]
     },
     "metadata": {},
     "output_type": "display_data"
    }
   ],
   "source": [
    "# Plot the total value of the member's portfolio (crypto and stock/bond) in a pie chart\n",
    "# YOUR CODE HERE\n",
    "savings_df.plot(kind = \"pie\", title = \"Total Porfolio\", y=\"amount\")"
   ]
  },
  {
   "cell_type": "markdown",
   "metadata": {},
   "source": [
    "#### Step 4: Using Python, determine if the current portfolio has enough to create an emergency fund as part of the member’s financial plan. Ideally, an emergency fund should equal to three times the member’s monthly income. To do this, implement the following steps:\n",
    "\n",
    "Step 1. Create a variable named `emergency_fund_value`, and set it equal to three times the value of the member’s `monthly_income` of 12000. (You set this earlier in Part 1).\n",
    "\n",
    "Step 2. Create a series of three if statements to determine if the member’s total portfolio is large enough to fund the emergency portfolio:\n",
    "\n",
    "* If the total portfolio value is greater than the emergency fund value, display a message congratulating the member for having enough money in this fund.\n",
    "\n",
    "* Else if the total portfolio value is equal to the emergency fund value, display a message congratulating the member on reaching this important financial goal.\n",
    "\n",
    "* Else the total portfolio is less than the emergency fund value, so display a message showing how many dollars away the member is from reaching the goal. (Subtract the total portfolio value from the emergency fund value.)\n"
   ]
  },
  {
   "cell_type": "markdown",
   "metadata": {},
   "source": [
    "##### Step 4-1: Create a variable named `emergency_fund_value`, and set it equal to three times the value of the member’s `monthly_income` of 12000. (You set this earlier in Part 1)."
   ]
  },
  {
   "cell_type": "code",
   "execution_count": 28,
   "metadata": {},
   "outputs": [],
   "source": [
    "# Create a variable named emergency_fund_value\n",
    "# YOUR CODE HERE\n",
    "emergency_fund_value = 3 * monthly_income\n"
   ]
  },
  {
   "cell_type": "markdown",
   "metadata": {},
   "source": [
    "##### Step 4-2: Create a series of three if statements to determine if the member’s total portfolio is large enough to fund the emergency portfolio:\n",
    "\n",
    "* If the total portfolio value is greater than the emergency fund value, display a message congratulating the member for having enough money in this fund.\n",
    "\n",
    "* Else if the total portfolio value is equal to the emergency fund value, display a message congratulating the member on reaching this important financial goal.\n",
    "\n",
    "* Else the total portfolio is less than the emergency fund value, so display a message showing how many dollars away the member is from reaching the goal. (Subtract the total portfolio value from the emergency fund value.)"
   ]
  },
  {
   "cell_type": "code",
   "execution_count": 29,
   "metadata": {},
   "outputs": [
    {
     "name": "stdout",
     "output_type": "stream",
     "text": [
      "Congratulation! You have enough money in your emergency fund.\n"
     ]
    }
   ],
   "source": [
    "# Evaluate the possibility of creating an emergency fund with 3 conditions:\n",
    "# YOUR CODE HERE\n",
    "# YOUR CODE HERE\n",
    "# YOUR CODE HERE\n",
    "if total_portfolio > emergency_fund_value:\n",
    "    print (f\"Congratulation! You have enough money in your emergency fund.\")\n",
    "elif total_portfolio == emergency_fund_value:\n",
    "    print (f\"Congratulation! You are reaching your financial goal of the emergency fund.\")\n",
    "\n",
    "else:    \n",
    "    short = total_porfolio - emergency_fund_value\n",
    "    print (f\"You are $ {short} away from reaching the goal of the emergency fund.\")\n"
   ]
  },
  {
   "cell_type": "markdown",
   "metadata": {},
   "source": [
    "## Part 2: Create a Financial Planner for Retirement"
   ]
  },
  {
   "cell_type": "markdown",
   "metadata": {
    "tags": []
   },
   "source": [
    "### Create the Monte Carlo Simulation\n",
    "\n",
    "In this section, you’ll use the MCForecastTools library to create a Monte Carlo simulation for the member’s savings portfolio. To do this, complete the following steps:\n",
    "\n",
    "1. Make an API call via the Alpaca SDK to get 3 years of historical closing prices for a traditional 60/40 portfolio split: 60% stocks (SPY) and 40% bonds (AGG).\n",
    "\n",
    "2. Run a Monte Carlo simulation of 500 samples and 30 years for the 60/40 portfolio, and then plot the results.The following image shows the overlay line plot resulting from a simulation with these characteristics. However, because a random number generator is used to run each live Monte Carlo simulation, your image will differ slightly from this exact image:\n",
    "\n",
    "![A screenshot depicts the resulting plot.](Images/5-4-monte-carlo-line-plot.png)\n",
    "\n",
    "3. Plot the probability distribution of the Monte Carlo simulation. Plot the probability distribution of the Monte Carlo simulation. The following image shows the histogram plot resulting from a simulation with these characteristics. However, because a random number generator is used to run each live Monte Carlo simulation, your image will differ slightly from this exact image:\n",
    "\n",
    "![A screenshot depicts the histogram plot.](Images/5-4-monte-carlo-histogram.png)\n",
    "\n",
    "4. Generate the summary statistics for the Monte Carlo simulation.\n",
    "\n"
   ]
  },
  {
   "cell_type": "markdown",
   "metadata": {},
   "source": [
    "#### Step 1: Make an API call via the Alpaca SDK to get 3 years of historical closing prices for a traditional 60/40 portfolio split: 60% stocks (SPY) and 40% bonds (AGG)."
   ]
  },
  {
   "cell_type": "code",
   "execution_count": 30,
   "metadata": {},
   "outputs": [],
   "source": [
    "# Set start and end dates of 3 years back from your current date\n",
    "# Alternatively, you can use an end date of 2020-08-07 and work 3 years back from that date \n",
    "# YOUR CODE HERE\n",
    "# YOUR CODE HERE\n",
    "tickers = [\"SPY\", \"AGG\"]\n",
    "start_date = pd.Timestamp(\"2017-08-07\", tz=\"America/New_York\").isoformat()\n",
    "end_date = pd.Timestamp(\"2020-08-07\", tz=\"America/New_York\").isoformat()\n",
    "\n",
    "timeframe = \"1D\"\n",
    "# Set number of rows to 1000 to retrieve the maximum amount of rows\n",
    "# YOUR CODE HERE\n",
    "limit_rows = 1000"
   ]
  },
  {
   "cell_type": "code",
   "execution_count": 31,
   "metadata": {},
   "outputs": [
    {
     "data": {
      "text/html": [
       "<div>\n",
       "<style scoped>\n",
       "    .dataframe tbody tr th:only-of-type {\n",
       "        vertical-align: middle;\n",
       "    }\n",
       "\n",
       "    .dataframe tbody tr th {\n",
       "        vertical-align: top;\n",
       "    }\n",
       "\n",
       "    .dataframe thead tr th {\n",
       "        text-align: left;\n",
       "    }\n",
       "\n",
       "    .dataframe thead tr:last-of-type th {\n",
       "        text-align: right;\n",
       "    }\n",
       "</style>\n",
       "<table border=\"1\" class=\"dataframe\">\n",
       "  <thead>\n",
       "    <tr>\n",
       "      <th></th>\n",
       "      <th colspan=\"5\" halign=\"left\">AGG</th>\n",
       "      <th colspan=\"5\" halign=\"left\">SPY</th>\n",
       "    </tr>\n",
       "    <tr>\n",
       "      <th></th>\n",
       "      <th>open</th>\n",
       "      <th>high</th>\n",
       "      <th>low</th>\n",
       "      <th>close</th>\n",
       "      <th>volume</th>\n",
       "      <th>open</th>\n",
       "      <th>high</th>\n",
       "      <th>low</th>\n",
       "      <th>close</th>\n",
       "      <th>volume</th>\n",
       "    </tr>\n",
       "    <tr>\n",
       "      <th>time</th>\n",
       "      <th></th>\n",
       "      <th></th>\n",
       "      <th></th>\n",
       "      <th></th>\n",
       "      <th></th>\n",
       "      <th></th>\n",
       "      <th></th>\n",
       "      <th></th>\n",
       "      <th></th>\n",
       "      <th></th>\n",
       "    </tr>\n",
       "  </thead>\n",
       "  <tbody>\n",
       "    <tr>\n",
       "      <th>2017-08-07 00:00:00-04:00</th>\n",
       "      <td>109.69</td>\n",
       "      <td>109.72</td>\n",
       "      <td>109.6066</td>\n",
       "      <td>109.6850</td>\n",
       "      <td>1425317.0</td>\n",
       "      <td>247.49</td>\n",
       "      <td>247.87</td>\n",
       "      <td>247.37</td>\n",
       "      <td>247.850</td>\n",
       "      <td>20901988</td>\n",
       "    </tr>\n",
       "    <tr>\n",
       "      <th>2017-08-08 00:00:00-04:00</th>\n",
       "      <td>109.67</td>\n",
       "      <td>109.69</td>\n",
       "      <td>109.5000</td>\n",
       "      <td>109.5810</td>\n",
       "      <td>1998999.0</td>\n",
       "      <td>247.51</td>\n",
       "      <td>248.91</td>\n",
       "      <td>246.83</td>\n",
       "      <td>247.291</td>\n",
       "      <td>44619069</td>\n",
       "    </tr>\n",
       "    <tr>\n",
       "      <th>2017-08-09 00:00:00-04:00</th>\n",
       "      <td>109.87</td>\n",
       "      <td>109.87</td>\n",
       "      <td>109.6600</td>\n",
       "      <td>109.6700</td>\n",
       "      <td>2069028.0</td>\n",
       "      <td>246.47</td>\n",
       "      <td>247.31</td>\n",
       "      <td>246.06</td>\n",
       "      <td>247.230</td>\n",
       "      <td>48543032</td>\n",
       "    </tr>\n",
       "    <tr>\n",
       "      <th>2017-08-10 00:00:00-04:00</th>\n",
       "      <td>109.70</td>\n",
       "      <td>109.85</td>\n",
       "      <td>109.6700</td>\n",
       "      <td>109.8053</td>\n",
       "      <td>1691677.0</td>\n",
       "      <td>246.28</td>\n",
       "      <td>246.44</td>\n",
       "      <td>243.70</td>\n",
       "      <td>243.790</td>\n",
       "      <td>87857827</td>\n",
       "    </tr>\n",
       "    <tr>\n",
       "      <th>2017-08-11 00:00:00-04:00</th>\n",
       "      <td>109.75</td>\n",
       "      <td>109.94</td>\n",
       "      <td>109.6800</td>\n",
       "      <td>109.8850</td>\n",
       "      <td>1613467.0</td>\n",
       "      <td>244.02</td>\n",
       "      <td>244.80</td>\n",
       "      <td>243.75</td>\n",
       "      <td>244.110</td>\n",
       "      <td>56404847</td>\n",
       "    </tr>\n",
       "  </tbody>\n",
       "</table>\n",
       "</div>"
      ],
      "text/plain": [
       "                              AGG                                         \\\n",
       "                             open    high       low     close     volume   \n",
       "time                                                                       \n",
       "2017-08-07 00:00:00-04:00  109.69  109.72  109.6066  109.6850  1425317.0   \n",
       "2017-08-08 00:00:00-04:00  109.67  109.69  109.5000  109.5810  1998999.0   \n",
       "2017-08-09 00:00:00-04:00  109.87  109.87  109.6600  109.6700  2069028.0   \n",
       "2017-08-10 00:00:00-04:00  109.70  109.85  109.6700  109.8053  1691677.0   \n",
       "2017-08-11 00:00:00-04:00  109.75  109.94  109.6800  109.8850  1613467.0   \n",
       "\n",
       "                              SPY                                     \n",
       "                             open    high     low    close    volume  \n",
       "time                                                                  \n",
       "2017-08-07 00:00:00-04:00  247.49  247.87  247.37  247.850  20901988  \n",
       "2017-08-08 00:00:00-04:00  247.51  248.91  246.83  247.291  44619069  \n",
       "2017-08-09 00:00:00-04:00  246.47  247.31  246.06  247.230  48543032  \n",
       "2017-08-10 00:00:00-04:00  246.28  246.44  243.70  243.790  87857827  \n",
       "2017-08-11 00:00:00-04:00  244.02  244.80  243.75  244.110  56404847  "
      ]
     },
     "execution_count": 31,
     "metadata": {},
     "output_type": "execute_result"
    }
   ],
   "source": [
    "# Use the Alpaca get_barset function to make the API call to get the 3 years worth of pricing data\n",
    "# The tickers and timeframe parameters should have been set in Part 1 of this activity \n",
    "# The start and end dates should be updated with the information set above\n",
    "# Remember to add the df property to the end of the call so the response is returned as a DataFrame\n",
    "# YOUR CODE HERE\n",
    "pricing_3y_df = alpaca.get_barset(\n",
    "    tickers,\n",
    "    timeframe,\n",
    "    start=start_date,\n",
    "    end=end_date,\n",
    "    limit=limit_rows\n",
    ").df\n",
    "    \n",
    "\n",
    "# Display both the first and last five rows of the DataFrame\n",
    "# YOUR CODE HERE\n",
    "# YOUR CODE HERE\n",
    "pricing_3y_df.head()"
   ]
  },
  {
   "cell_type": "code",
   "execution_count": 32,
   "metadata": {},
   "outputs": [
    {
     "data": {
      "text/html": [
       "<div>\n",
       "<style scoped>\n",
       "    .dataframe tbody tr th:only-of-type {\n",
       "        vertical-align: middle;\n",
       "    }\n",
       "\n",
       "    .dataframe tbody tr th {\n",
       "        vertical-align: top;\n",
       "    }\n",
       "\n",
       "    .dataframe thead tr th {\n",
       "        text-align: left;\n",
       "    }\n",
       "\n",
       "    .dataframe thead tr:last-of-type th {\n",
       "        text-align: right;\n",
       "    }\n",
       "</style>\n",
       "<table border=\"1\" class=\"dataframe\">\n",
       "  <thead>\n",
       "    <tr>\n",
       "      <th></th>\n",
       "      <th colspan=\"5\" halign=\"left\">AGG</th>\n",
       "      <th colspan=\"5\" halign=\"left\">SPY</th>\n",
       "    </tr>\n",
       "    <tr>\n",
       "      <th></th>\n",
       "      <th>open</th>\n",
       "      <th>high</th>\n",
       "      <th>low</th>\n",
       "      <th>close</th>\n",
       "      <th>volume</th>\n",
       "      <th>open</th>\n",
       "      <th>high</th>\n",
       "      <th>low</th>\n",
       "      <th>close</th>\n",
       "      <th>volume</th>\n",
       "    </tr>\n",
       "    <tr>\n",
       "      <th>time</th>\n",
       "      <th></th>\n",
       "      <th></th>\n",
       "      <th></th>\n",
       "      <th></th>\n",
       "      <th></th>\n",
       "      <th></th>\n",
       "      <th></th>\n",
       "      <th></th>\n",
       "      <th></th>\n",
       "      <th></th>\n",
       "    </tr>\n",
       "  </thead>\n",
       "  <tbody>\n",
       "    <tr>\n",
       "      <th>2020-08-03 00:00:00-04:00</th>\n",
       "      <td>119.37</td>\n",
       "      <td>119.40</td>\n",
       "      <td>119.1903</td>\n",
       "      <td>119.400</td>\n",
       "      <td>17837420.0</td>\n",
       "      <td>328.3200</td>\n",
       "      <td>329.62</td>\n",
       "      <td>327.73</td>\n",
       "      <td>328.76</td>\n",
       "      <td>71741125</td>\n",
       "    </tr>\n",
       "    <tr>\n",
       "      <th>2020-08-04 00:00:00-04:00</th>\n",
       "      <td>119.42</td>\n",
       "      <td>119.63</td>\n",
       "      <td>119.4200</td>\n",
       "      <td>119.630</td>\n",
       "      <td>21512268.0</td>\n",
       "      <td>327.8600</td>\n",
       "      <td>330.06</td>\n",
       "      <td>327.86</td>\n",
       "      <td>330.03</td>\n",
       "      <td>73684427</td>\n",
       "    </tr>\n",
       "    <tr>\n",
       "      <th>2020-08-05 00:00:00-04:00</th>\n",
       "      <td>119.39</td>\n",
       "      <td>119.49</td>\n",
       "      <td>119.3100</td>\n",
       "      <td>119.400</td>\n",
       "      <td>34175883.0</td>\n",
       "      <td>331.4700</td>\n",
       "      <td>332.39</td>\n",
       "      <td>331.18</td>\n",
       "      <td>332.06</td>\n",
       "      <td>72846458</td>\n",
       "    </tr>\n",
       "    <tr>\n",
       "      <th>2020-08-06 00:00:00-04:00</th>\n",
       "      <td>119.62</td>\n",
       "      <td>119.73</td>\n",
       "      <td>119.5300</td>\n",
       "      <td>119.580</td>\n",
       "      <td>9009216.0</td>\n",
       "      <td>331.4799</td>\n",
       "      <td>334.46</td>\n",
       "      <td>331.13</td>\n",
       "      <td>334.31</td>\n",
       "      <td>76900649</td>\n",
       "    </tr>\n",
       "    <tr>\n",
       "      <th>2020-08-07 00:00:00-04:00</th>\n",
       "      <td>119.66</td>\n",
       "      <td>119.73</td>\n",
       "      <td>119.3950</td>\n",
       "      <td>119.445</td>\n",
       "      <td>8830420.0</td>\n",
       "      <td>333.2800</td>\n",
       "      <td>334.88</td>\n",
       "      <td>332.30</td>\n",
       "      <td>334.55</td>\n",
       "      <td>98710236</td>\n",
       "    </tr>\n",
       "  </tbody>\n",
       "</table>\n",
       "</div>"
      ],
      "text/plain": [
       "                              AGG                                         \\\n",
       "                             open    high       low    close      volume   \n",
       "time                                                                       \n",
       "2020-08-03 00:00:00-04:00  119.37  119.40  119.1903  119.400  17837420.0   \n",
       "2020-08-04 00:00:00-04:00  119.42  119.63  119.4200  119.630  21512268.0   \n",
       "2020-08-05 00:00:00-04:00  119.39  119.49  119.3100  119.400  34175883.0   \n",
       "2020-08-06 00:00:00-04:00  119.62  119.73  119.5300  119.580   9009216.0   \n",
       "2020-08-07 00:00:00-04:00  119.66  119.73  119.3950  119.445   8830420.0   \n",
       "\n",
       "                                SPY                                    \n",
       "                               open    high     low   close    volume  \n",
       "time                                                                   \n",
       "2020-08-03 00:00:00-04:00  328.3200  329.62  327.73  328.76  71741125  \n",
       "2020-08-04 00:00:00-04:00  327.8600  330.06  327.86  330.03  73684427  \n",
       "2020-08-05 00:00:00-04:00  331.4700  332.39  331.18  332.06  72846458  \n",
       "2020-08-06 00:00:00-04:00  331.4799  334.46  331.13  334.31  76900649  \n",
       "2020-08-07 00:00:00-04:00  333.2800  334.88  332.30  334.55  98710236  "
      ]
     },
     "execution_count": 32,
     "metadata": {},
     "output_type": "execute_result"
    }
   ],
   "source": [
    "pricing_3y_df.tail()"
   ]
  },
  {
   "cell_type": "markdown",
   "metadata": {},
   "source": [
    "#### Step 2: Run a Monte Carlo simulation of 500 samples and 30 years for the 60/40 portfolio, and then plot the results."
   ]
  },
  {
   "cell_type": "code",
   "execution_count": 33,
   "metadata": {},
   "outputs": [
    {
     "data": {
      "text/html": [
       "<div>\n",
       "<style scoped>\n",
       "    .dataframe tbody tr th:only-of-type {\n",
       "        vertical-align: middle;\n",
       "    }\n",
       "\n",
       "    .dataframe tbody tr th {\n",
       "        vertical-align: top;\n",
       "    }\n",
       "\n",
       "    .dataframe thead tr th {\n",
       "        text-align: left;\n",
       "    }\n",
       "\n",
       "    .dataframe thead tr:last-of-type th {\n",
       "        text-align: right;\n",
       "    }\n",
       "</style>\n",
       "<table border=\"1\" class=\"dataframe\">\n",
       "  <thead>\n",
       "    <tr>\n",
       "      <th></th>\n",
       "      <th colspan=\"6\" halign=\"left\">AGG</th>\n",
       "      <th colspan=\"6\" halign=\"left\">SPY</th>\n",
       "    </tr>\n",
       "    <tr>\n",
       "      <th></th>\n",
       "      <th>open</th>\n",
       "      <th>high</th>\n",
       "      <th>low</th>\n",
       "      <th>close</th>\n",
       "      <th>volume</th>\n",
       "      <th>daily_return</th>\n",
       "      <th>open</th>\n",
       "      <th>high</th>\n",
       "      <th>low</th>\n",
       "      <th>close</th>\n",
       "      <th>volume</th>\n",
       "      <th>daily_return</th>\n",
       "    </tr>\n",
       "    <tr>\n",
       "      <th>time</th>\n",
       "      <th></th>\n",
       "      <th></th>\n",
       "      <th></th>\n",
       "      <th></th>\n",
       "      <th></th>\n",
       "      <th></th>\n",
       "      <th></th>\n",
       "      <th></th>\n",
       "      <th></th>\n",
       "      <th></th>\n",
       "      <th></th>\n",
       "      <th></th>\n",
       "    </tr>\n",
       "  </thead>\n",
       "  <tbody>\n",
       "    <tr>\n",
       "      <th>2017-08-07 00:00:00-04:00</th>\n",
       "      <td>109.69</td>\n",
       "      <td>109.72</td>\n",
       "      <td>109.6066</td>\n",
       "      <td>109.6850</td>\n",
       "      <td>1425317.0</td>\n",
       "      <td>NaN</td>\n",
       "      <td>247.49</td>\n",
       "      <td>247.87</td>\n",
       "      <td>247.37</td>\n",
       "      <td>247.850</td>\n",
       "      <td>20901988</td>\n",
       "      <td>NaN</td>\n",
       "    </tr>\n",
       "    <tr>\n",
       "      <th>2017-08-08 00:00:00-04:00</th>\n",
       "      <td>109.67</td>\n",
       "      <td>109.69</td>\n",
       "      <td>109.5000</td>\n",
       "      <td>109.5810</td>\n",
       "      <td>1998999.0</td>\n",
       "      <td>-0.000948</td>\n",
       "      <td>247.51</td>\n",
       "      <td>248.91</td>\n",
       "      <td>246.83</td>\n",
       "      <td>247.291</td>\n",
       "      <td>44619069</td>\n",
       "      <td>-0.002255</td>\n",
       "    </tr>\n",
       "    <tr>\n",
       "      <th>2017-08-09 00:00:00-04:00</th>\n",
       "      <td>109.87</td>\n",
       "      <td>109.87</td>\n",
       "      <td>109.6600</td>\n",
       "      <td>109.6700</td>\n",
       "      <td>2069028.0</td>\n",
       "      <td>0.000812</td>\n",
       "      <td>246.47</td>\n",
       "      <td>247.31</td>\n",
       "      <td>246.06</td>\n",
       "      <td>247.230</td>\n",
       "      <td>48543032</td>\n",
       "      <td>-0.000247</td>\n",
       "    </tr>\n",
       "    <tr>\n",
       "      <th>2017-08-10 00:00:00-04:00</th>\n",
       "      <td>109.70</td>\n",
       "      <td>109.85</td>\n",
       "      <td>109.6700</td>\n",
       "      <td>109.8053</td>\n",
       "      <td>1691677.0</td>\n",
       "      <td>0.001234</td>\n",
       "      <td>246.28</td>\n",
       "      <td>246.44</td>\n",
       "      <td>243.70</td>\n",
       "      <td>243.790</td>\n",
       "      <td>87857827</td>\n",
       "      <td>-0.013914</td>\n",
       "    </tr>\n",
       "    <tr>\n",
       "      <th>2017-08-11 00:00:00-04:00</th>\n",
       "      <td>109.75</td>\n",
       "      <td>109.94</td>\n",
       "      <td>109.6800</td>\n",
       "      <td>109.8850</td>\n",
       "      <td>1613467.0</td>\n",
       "      <td>0.000726</td>\n",
       "      <td>244.02</td>\n",
       "      <td>244.80</td>\n",
       "      <td>243.75</td>\n",
       "      <td>244.110</td>\n",
       "      <td>56404847</td>\n",
       "      <td>0.001313</td>\n",
       "    </tr>\n",
       "  </tbody>\n",
       "</table>\n",
       "</div>"
      ],
      "text/plain": [
       "                              AGG                                         \\\n",
       "                             open    high       low     close     volume   \n",
       "time                                                                       \n",
       "2017-08-07 00:00:00-04:00  109.69  109.72  109.6066  109.6850  1425317.0   \n",
       "2017-08-08 00:00:00-04:00  109.67  109.69  109.5000  109.5810  1998999.0   \n",
       "2017-08-09 00:00:00-04:00  109.87  109.87  109.6600  109.6700  2069028.0   \n",
       "2017-08-10 00:00:00-04:00  109.70  109.85  109.6700  109.8053  1691677.0   \n",
       "2017-08-11 00:00:00-04:00  109.75  109.94  109.6800  109.8850  1613467.0   \n",
       "\n",
       "                                           SPY                           \\\n",
       "                          daily_return    open    high     low    close   \n",
       "time                                                                      \n",
       "2017-08-07 00:00:00-04:00          NaN  247.49  247.87  247.37  247.850   \n",
       "2017-08-08 00:00:00-04:00    -0.000948  247.51  248.91  246.83  247.291   \n",
       "2017-08-09 00:00:00-04:00     0.000812  246.47  247.31  246.06  247.230   \n",
       "2017-08-10 00:00:00-04:00     0.001234  246.28  246.44  243.70  243.790   \n",
       "2017-08-11 00:00:00-04:00     0.000726  244.02  244.80  243.75  244.110   \n",
       "\n",
       "                                                  \n",
       "                             volume daily_return  \n",
       "time                                              \n",
       "2017-08-07 00:00:00-04:00  20901988          NaN  \n",
       "2017-08-08 00:00:00-04:00  44619069    -0.002255  \n",
       "2017-08-09 00:00:00-04:00  48543032    -0.000247  \n",
       "2017-08-10 00:00:00-04:00  87857827    -0.013914  \n",
       "2017-08-11 00:00:00-04:00  56404847     0.001313  "
      ]
     },
     "execution_count": 33,
     "metadata": {},
     "output_type": "execute_result"
    }
   ],
   "source": [
    "# Configure the Monte Carlo simulation to forecast 30 years cumulative returns\n",
    "# The weights should be split 40% to AGG and 60% to SPY.\n",
    "# Run 500 samples.\n",
    "MC_30y_simulation = MCSimulation(\n",
    "    portfolio_data= pricing_3y_df,\n",
    "    weights=[0.60, 0.40],\n",
    "    num_simulation=500,\n",
    "    num_trading_days=252*30)\n",
    "\n",
    "# Review the simulation input data\n",
    "# YOUR CODE HERE\n",
    "MC_30y_simulation.portfolio_data.head()"
   ]
  },
  {
   "cell_type": "code",
   "execution_count": 34,
   "metadata": {},
   "outputs": [
    {
     "name": "stdout",
     "output_type": "stream",
     "text": [
      "Running Monte Carlo simulation number 0.\n",
      "Running Monte Carlo simulation number 10.\n",
      "Running Monte Carlo simulation number 20.\n",
      "Running Monte Carlo simulation number 30.\n",
      "Running Monte Carlo simulation number 40.\n",
      "Running Monte Carlo simulation number 50.\n",
      "Running Monte Carlo simulation number 60.\n",
      "Running Monte Carlo simulation number 70.\n",
      "Running Monte Carlo simulation number 80.\n",
      "Running Monte Carlo simulation number 90.\n",
      "Running Monte Carlo simulation number 100.\n"
     ]
    },
    {
     "name": "stderr",
     "output_type": "stream",
     "text": [
      "/Users/nicolemann/Desktop/Challenges/5/Challenge-5/MCForecastTools.py:117: PerformanceWarning: DataFrame is highly fragmented.  This is usually the result of calling `frame.insert` many times, which has poor performance.  Consider joining all columns at once using pd.concat(axis=1) instead.  To get a de-fragmented frame, use `newframe = frame.copy()`\n",
      "  portfolio_cumulative_returns[n] = (1 + sim_df.fillna(0)).cumprod()\n"
     ]
    },
    {
     "name": "stdout",
     "output_type": "stream",
     "text": [
      "Running Monte Carlo simulation number 110.\n",
      "Running Monte Carlo simulation number 120.\n",
      "Running Monte Carlo simulation number 130.\n",
      "Running Monte Carlo simulation number 140.\n",
      "Running Monte Carlo simulation number 150.\n",
      "Running Monte Carlo simulation number 160.\n",
      "Running Monte Carlo simulation number 170.\n",
      "Running Monte Carlo simulation number 180.\n",
      "Running Monte Carlo simulation number 190.\n",
      "Running Monte Carlo simulation number 200.\n",
      "Running Monte Carlo simulation number 210.\n",
      "Running Monte Carlo simulation number 220.\n",
      "Running Monte Carlo simulation number 230.\n",
      "Running Monte Carlo simulation number 240.\n",
      "Running Monte Carlo simulation number 250.\n",
      "Running Monte Carlo simulation number 260.\n",
      "Running Monte Carlo simulation number 270.\n",
      "Running Monte Carlo simulation number 280.\n",
      "Running Monte Carlo simulation number 290.\n",
      "Running Monte Carlo simulation number 300.\n",
      "Running Monte Carlo simulation number 310.\n",
      "Running Monte Carlo simulation number 320.\n",
      "Running Monte Carlo simulation number 330.\n",
      "Running Monte Carlo simulation number 340.\n",
      "Running Monte Carlo simulation number 350.\n",
      "Running Monte Carlo simulation number 360.\n",
      "Running Monte Carlo simulation number 370.\n",
      "Running Monte Carlo simulation number 380.\n",
      "Running Monte Carlo simulation number 390.\n",
      "Running Monte Carlo simulation number 400.\n",
      "Running Monte Carlo simulation number 410.\n",
      "Running Monte Carlo simulation number 420.\n",
      "Running Monte Carlo simulation number 430.\n",
      "Running Monte Carlo simulation number 440.\n",
      "Running Monte Carlo simulation number 450.\n",
      "Running Monte Carlo simulation number 460.\n",
      "Running Monte Carlo simulation number 470.\n",
      "Running Monte Carlo simulation number 480.\n",
      "Running Monte Carlo simulation number 490.\n"
     ]
    },
    {
     "data": {
      "text/html": [
       "<div>\n",
       "<style scoped>\n",
       "    .dataframe tbody tr th:only-of-type {\n",
       "        vertical-align: middle;\n",
       "    }\n",
       "\n",
       "    .dataframe tbody tr th {\n",
       "        vertical-align: top;\n",
       "    }\n",
       "\n",
       "    .dataframe thead th {\n",
       "        text-align: right;\n",
       "    }\n",
       "</style>\n",
       "<table border=\"1\" class=\"dataframe\">\n",
       "  <thead>\n",
       "    <tr style=\"text-align: right;\">\n",
       "      <th></th>\n",
       "      <th>0</th>\n",
       "      <th>1</th>\n",
       "      <th>2</th>\n",
       "      <th>3</th>\n",
       "      <th>4</th>\n",
       "      <th>5</th>\n",
       "      <th>6</th>\n",
       "      <th>7</th>\n",
       "      <th>8</th>\n",
       "      <th>9</th>\n",
       "      <th>...</th>\n",
       "      <th>490</th>\n",
       "      <th>491</th>\n",
       "      <th>492</th>\n",
       "      <th>493</th>\n",
       "      <th>494</th>\n",
       "      <th>495</th>\n",
       "      <th>496</th>\n",
       "      <th>497</th>\n",
       "      <th>498</th>\n",
       "      <th>499</th>\n",
       "    </tr>\n",
       "  </thead>\n",
       "  <tbody>\n",
       "    <tr>\n",
       "      <th>0</th>\n",
       "      <td>1.000000</td>\n",
       "      <td>1.000000</td>\n",
       "      <td>1.000000</td>\n",
       "      <td>1.000000</td>\n",
       "      <td>1.000000</td>\n",
       "      <td>1.000000</td>\n",
       "      <td>1.000000</td>\n",
       "      <td>1.000000</td>\n",
       "      <td>1.000000</td>\n",
       "      <td>1.000000</td>\n",
       "      <td>...</td>\n",
       "      <td>1.000000</td>\n",
       "      <td>1.000000</td>\n",
       "      <td>1.000000</td>\n",
       "      <td>1.000000</td>\n",
       "      <td>1.000000</td>\n",
       "      <td>1.000000</td>\n",
       "      <td>1.000000</td>\n",
       "      <td>1.000000</td>\n",
       "      <td>1.000000</td>\n",
       "      <td>1.000000</td>\n",
       "    </tr>\n",
       "    <tr>\n",
       "      <th>1</th>\n",
       "      <td>1.004894</td>\n",
       "      <td>0.999315</td>\n",
       "      <td>0.999760</td>\n",
       "      <td>0.996984</td>\n",
       "      <td>0.997747</td>\n",
       "      <td>1.007772</td>\n",
       "      <td>1.004009</td>\n",
       "      <td>1.001959</td>\n",
       "      <td>0.997314</td>\n",
       "      <td>1.004724</td>\n",
       "      <td>...</td>\n",
       "      <td>0.992907</td>\n",
       "      <td>0.993977</td>\n",
       "      <td>1.007551</td>\n",
       "      <td>1.005462</td>\n",
       "      <td>0.991982</td>\n",
       "      <td>1.007036</td>\n",
       "      <td>0.997587</td>\n",
       "      <td>0.995469</td>\n",
       "      <td>0.985132</td>\n",
       "      <td>1.003865</td>\n",
       "    </tr>\n",
       "    <tr>\n",
       "      <th>2</th>\n",
       "      <td>1.006212</td>\n",
       "      <td>0.989397</td>\n",
       "      <td>0.996299</td>\n",
       "      <td>1.003002</td>\n",
       "      <td>0.985649</td>\n",
       "      <td>1.000593</td>\n",
       "      <td>1.010381</td>\n",
       "      <td>1.006323</td>\n",
       "      <td>0.994907</td>\n",
       "      <td>1.006563</td>\n",
       "      <td>...</td>\n",
       "      <td>0.999466</td>\n",
       "      <td>0.997656</td>\n",
       "      <td>1.019649</td>\n",
       "      <td>1.001745</td>\n",
       "      <td>1.002738</td>\n",
       "      <td>1.013173</td>\n",
       "      <td>0.994658</td>\n",
       "      <td>0.994991</td>\n",
       "      <td>0.990660</td>\n",
       "      <td>1.009289</td>\n",
       "    </tr>\n",
       "    <tr>\n",
       "      <th>3</th>\n",
       "      <td>1.013059</td>\n",
       "      <td>0.994207</td>\n",
       "      <td>0.990942</td>\n",
       "      <td>0.999473</td>\n",
       "      <td>0.976109</td>\n",
       "      <td>1.005097</td>\n",
       "      <td>1.012278</td>\n",
       "      <td>1.006759</td>\n",
       "      <td>0.983294</td>\n",
       "      <td>1.014505</td>\n",
       "      <td>...</td>\n",
       "      <td>0.986553</td>\n",
       "      <td>0.983568</td>\n",
       "      <td>1.015553</td>\n",
       "      <td>1.001782</td>\n",
       "      <td>1.003161</td>\n",
       "      <td>1.011795</td>\n",
       "      <td>0.992495</td>\n",
       "      <td>0.995799</td>\n",
       "      <td>0.994852</td>\n",
       "      <td>1.007633</td>\n",
       "    </tr>\n",
       "    <tr>\n",
       "      <th>4</th>\n",
       "      <td>1.014495</td>\n",
       "      <td>0.996172</td>\n",
       "      <td>0.993292</td>\n",
       "      <td>1.004689</td>\n",
       "      <td>0.979593</td>\n",
       "      <td>1.000961</td>\n",
       "      <td>1.017071</td>\n",
       "      <td>0.999513</td>\n",
       "      <td>0.975655</td>\n",
       "      <td>1.013798</td>\n",
       "      <td>...</td>\n",
       "      <td>0.973109</td>\n",
       "      <td>0.980311</td>\n",
       "      <td>1.013174</td>\n",
       "      <td>0.999730</td>\n",
       "      <td>0.996801</td>\n",
       "      <td>1.014779</td>\n",
       "      <td>0.987385</td>\n",
       "      <td>0.991371</td>\n",
       "      <td>0.989227</td>\n",
       "      <td>1.016308</td>\n",
       "    </tr>\n",
       "    <tr>\n",
       "      <th>...</th>\n",
       "      <td>...</td>\n",
       "      <td>...</td>\n",
       "      <td>...</td>\n",
       "      <td>...</td>\n",
       "      <td>...</td>\n",
       "      <td>...</td>\n",
       "      <td>...</td>\n",
       "      <td>...</td>\n",
       "      <td>...</td>\n",
       "      <td>...</td>\n",
       "      <td>...</td>\n",
       "      <td>...</td>\n",
       "      <td>...</td>\n",
       "      <td>...</td>\n",
       "      <td>...</td>\n",
       "      <td>...</td>\n",
       "      <td>...</td>\n",
       "      <td>...</td>\n",
       "      <td>...</td>\n",
       "      <td>...</td>\n",
       "      <td>...</td>\n",
       "    </tr>\n",
       "    <tr>\n",
       "      <th>7556</th>\n",
       "      <td>11.765282</td>\n",
       "      <td>14.355728</td>\n",
       "      <td>10.322407</td>\n",
       "      <td>6.748965</td>\n",
       "      <td>8.473969</td>\n",
       "      <td>7.020940</td>\n",
       "      <td>5.816592</td>\n",
       "      <td>4.200087</td>\n",
       "      <td>3.621960</td>\n",
       "      <td>5.379484</td>\n",
       "      <td>...</td>\n",
       "      <td>5.116318</td>\n",
       "      <td>5.078495</td>\n",
       "      <td>9.865159</td>\n",
       "      <td>14.309344</td>\n",
       "      <td>6.482015</td>\n",
       "      <td>23.331025</td>\n",
       "      <td>7.831451</td>\n",
       "      <td>4.227817</td>\n",
       "      <td>6.948106</td>\n",
       "      <td>6.132064</td>\n",
       "    </tr>\n",
       "    <tr>\n",
       "      <th>7557</th>\n",
       "      <td>11.812507</td>\n",
       "      <td>14.374860</td>\n",
       "      <td>10.196737</td>\n",
       "      <td>6.752706</td>\n",
       "      <td>8.487907</td>\n",
       "      <td>7.018567</td>\n",
       "      <td>5.860621</td>\n",
       "      <td>4.180822</td>\n",
       "      <td>3.632962</td>\n",
       "      <td>5.412970</td>\n",
       "      <td>...</td>\n",
       "      <td>5.152956</td>\n",
       "      <td>5.071224</td>\n",
       "      <td>9.948514</td>\n",
       "      <td>14.328072</td>\n",
       "      <td>6.501069</td>\n",
       "      <td>23.290063</td>\n",
       "      <td>7.867985</td>\n",
       "      <td>4.224085</td>\n",
       "      <td>6.958737</td>\n",
       "      <td>6.181397</td>\n",
       "    </tr>\n",
       "    <tr>\n",
       "      <th>7558</th>\n",
       "      <td>11.906719</td>\n",
       "      <td>14.386690</td>\n",
       "      <td>10.185915</td>\n",
       "      <td>6.720073</td>\n",
       "      <td>8.514731</td>\n",
       "      <td>7.000363</td>\n",
       "      <td>5.782393</td>\n",
       "      <td>4.202350</td>\n",
       "      <td>3.678153</td>\n",
       "      <td>5.492083</td>\n",
       "      <td>...</td>\n",
       "      <td>5.159077</td>\n",
       "      <td>5.054277</td>\n",
       "      <td>10.056121</td>\n",
       "      <td>14.327522</td>\n",
       "      <td>6.483687</td>\n",
       "      <td>23.522630</td>\n",
       "      <td>7.920526</td>\n",
       "      <td>4.235616</td>\n",
       "      <td>7.008707</td>\n",
       "      <td>6.209473</td>\n",
       "    </tr>\n",
       "    <tr>\n",
       "      <th>7559</th>\n",
       "      <td>11.888582</td>\n",
       "      <td>14.218768</td>\n",
       "      <td>10.218367</td>\n",
       "      <td>6.725706</td>\n",
       "      <td>8.527881</td>\n",
       "      <td>6.988733</td>\n",
       "      <td>5.769254</td>\n",
       "      <td>4.208593</td>\n",
       "      <td>3.674222</td>\n",
       "      <td>5.494449</td>\n",
       "      <td>...</td>\n",
       "      <td>5.173892</td>\n",
       "      <td>5.078635</td>\n",
       "      <td>9.991912</td>\n",
       "      <td>14.434188</td>\n",
       "      <td>6.509487</td>\n",
       "      <td>23.433394</td>\n",
       "      <td>7.913145</td>\n",
       "      <td>4.210536</td>\n",
       "      <td>6.979538</td>\n",
       "      <td>6.241540</td>\n",
       "    </tr>\n",
       "    <tr>\n",
       "      <th>7560</th>\n",
       "      <td>11.964149</td>\n",
       "      <td>14.164308</td>\n",
       "      <td>10.200909</td>\n",
       "      <td>6.713547</td>\n",
       "      <td>8.436006</td>\n",
       "      <td>7.008805</td>\n",
       "      <td>5.799592</td>\n",
       "      <td>4.189815</td>\n",
       "      <td>3.668517</td>\n",
       "      <td>5.484796</td>\n",
       "      <td>...</td>\n",
       "      <td>5.216722</td>\n",
       "      <td>5.091253</td>\n",
       "      <td>9.995963</td>\n",
       "      <td>14.404651</td>\n",
       "      <td>6.473016</td>\n",
       "      <td>23.282280</td>\n",
       "      <td>7.921930</td>\n",
       "      <td>4.217057</td>\n",
       "      <td>7.000984</td>\n",
       "      <td>6.212877</td>\n",
       "    </tr>\n",
       "  </tbody>\n",
       "</table>\n",
       "<p>7561 rows × 500 columns</p>\n",
       "</div>"
      ],
      "text/plain": [
       "            0          1          2         3         4         5         6    \\\n",
       "0      1.000000   1.000000   1.000000  1.000000  1.000000  1.000000  1.000000   \n",
       "1      1.004894   0.999315   0.999760  0.996984  0.997747  1.007772  1.004009   \n",
       "2      1.006212   0.989397   0.996299  1.003002  0.985649  1.000593  1.010381   \n",
       "3      1.013059   0.994207   0.990942  0.999473  0.976109  1.005097  1.012278   \n",
       "4      1.014495   0.996172   0.993292  1.004689  0.979593  1.000961  1.017071   \n",
       "...         ...        ...        ...       ...       ...       ...       ...   \n",
       "7556  11.765282  14.355728  10.322407  6.748965  8.473969  7.020940  5.816592   \n",
       "7557  11.812507  14.374860  10.196737  6.752706  8.487907  7.018567  5.860621   \n",
       "7558  11.906719  14.386690  10.185915  6.720073  8.514731  7.000363  5.782393   \n",
       "7559  11.888582  14.218768  10.218367  6.725706  8.527881  6.988733  5.769254   \n",
       "7560  11.964149  14.164308  10.200909  6.713547  8.436006  7.008805  5.799592   \n",
       "\n",
       "           7         8         9    ...       490       491        492  \\\n",
       "0     1.000000  1.000000  1.000000  ...  1.000000  1.000000   1.000000   \n",
       "1     1.001959  0.997314  1.004724  ...  0.992907  0.993977   1.007551   \n",
       "2     1.006323  0.994907  1.006563  ...  0.999466  0.997656   1.019649   \n",
       "3     1.006759  0.983294  1.014505  ...  0.986553  0.983568   1.015553   \n",
       "4     0.999513  0.975655  1.013798  ...  0.973109  0.980311   1.013174   \n",
       "...        ...       ...       ...  ...       ...       ...        ...   \n",
       "7556  4.200087  3.621960  5.379484  ...  5.116318  5.078495   9.865159   \n",
       "7557  4.180822  3.632962  5.412970  ...  5.152956  5.071224   9.948514   \n",
       "7558  4.202350  3.678153  5.492083  ...  5.159077  5.054277  10.056121   \n",
       "7559  4.208593  3.674222  5.494449  ...  5.173892  5.078635   9.991912   \n",
       "7560  4.189815  3.668517  5.484796  ...  5.216722  5.091253   9.995963   \n",
       "\n",
       "            493       494        495       496       497       498       499  \n",
       "0      1.000000  1.000000   1.000000  1.000000  1.000000  1.000000  1.000000  \n",
       "1      1.005462  0.991982   1.007036  0.997587  0.995469  0.985132  1.003865  \n",
       "2      1.001745  1.002738   1.013173  0.994658  0.994991  0.990660  1.009289  \n",
       "3      1.001782  1.003161   1.011795  0.992495  0.995799  0.994852  1.007633  \n",
       "4      0.999730  0.996801   1.014779  0.987385  0.991371  0.989227  1.016308  \n",
       "...         ...       ...        ...       ...       ...       ...       ...  \n",
       "7556  14.309344  6.482015  23.331025  7.831451  4.227817  6.948106  6.132064  \n",
       "7557  14.328072  6.501069  23.290063  7.867985  4.224085  6.958737  6.181397  \n",
       "7558  14.327522  6.483687  23.522630  7.920526  4.235616  7.008707  6.209473  \n",
       "7559  14.434188  6.509487  23.433394  7.913145  4.210536  6.979538  6.241540  \n",
       "7560  14.404651  6.473016  23.282280  7.921930  4.217057  7.000984  6.212877  \n",
       "\n",
       "[7561 rows x 500 columns]"
      ]
     },
     "execution_count": 34,
     "metadata": {},
     "output_type": "execute_result"
    }
   ],
   "source": [
    "# Run the Monte Carlo simulation to forecast 30 years cumulative returns\n",
    "# YOUR CODE HERE\n",
    "MC_30y_simulation.calc_cumulative_return()"
   ]
  },
  {
   "cell_type": "code",
   "execution_count": 35,
   "metadata": {},
   "outputs": [
    {
     "data": {
      "image/png": "[encoded data removed]",
      "text/plain": [
       "<Figure size 432x288 with 1 Axes>"
      ]
     },
     "metadata": {
      "needs_background": "light"
     },
     "output_type": "display_data"
    }
   ],
   "source": [
    "# Visualize the 30-year Monte Carlo simulation by creating an\n",
    "# overlay line plot\n",
    "# YOUR CODE HERE\n",
    "line_plot = MC_30y_simulation.plot_simulation()"
   ]
  },
  {
   "cell_type": "markdown",
   "metadata": {},
   "source": [
    "#### Step 3: Plot the probability distribution of the Monte Carlo simulation."
   ]
  },
  {
   "cell_type": "code",
   "execution_count": 36,
   "metadata": {},
   "outputs": [
    {
     "data": {
      "text/plain": [
       "<AxesSubplot:title={'center':'Distribution of Final Cumuluative Returns Across All 500 Simulations'}, ylabel='Frequency'>"
      ]
     },
     "execution_count": 36,
     "metadata": {},
     "output_type": "execute_result"
    },
    {
     "data": {
      "image/png": "[encoded data removed]",
      "text/plain": [
       "<Figure size 432x288 with 1 Axes>"
      ]
     },
     "metadata": {
      "needs_background": "light"
     },
     "output_type": "display_data"
    }
   ],
   "source": [
    "# Visualize the probability distribution of the 30-year Monte Carlo simulation \n",
    "# by plotting a histogram\n",
    "# YOUR CODE HERE\n",
    "MC_30y_simulation.plot_distribution()"
   ]
  },
  {
   "cell_type": "markdown",
   "metadata": {},
   "source": [
    "#### Step 4: Generate the summary statistics for the Monte Carlo simulation."
   ]
  },
  {
   "cell_type": "code",
   "execution_count": 37,
   "metadata": {},
   "outputs": [
    {
     "data": {
      "text/plain": [
       "count           500.000000\n",
       "mean              7.689377\n",
       "std               4.313300\n",
       "min               1.313793\n",
       "25%               4.699251\n",
       "50%               6.655726\n",
       "75%               9.502343\n",
       "max              30.645858\n",
       "95% CI Lower      2.557987\n",
       "95% CI Upper     18.910588\n",
       "Name: 7560, dtype: float64"
      ]
     },
     "execution_count": 37,
     "metadata": {},
     "output_type": "execute_result"
    }
   ],
   "source": [
    "# Generate summary statistics from the 30-year Monte Carlo simulation results\n",
    "# Save the results as a variable\n",
    "# YOUR CODE HERE\n",
    "summarize_cumulative_return = MC_30y_simulation.summarize_cumulative_return()\n",
    "\n",
    "# Review the 30-year Monte Carlo summary statistics\n",
    "# YOUR CODE HERE\n",
    "summarize_cumulative_return"
   ]
  },
  {
   "cell_type": "markdown",
   "metadata": {},
   "source": [
    "### Analyze the Retirement Portfolio Forecasts\n",
    "\n",
    "Using the current value of only the stock and bond portion of the member's portfolio and the summary statistics that you generated from the Monte Carlo simulation, answer the following question in your Jupyter notebook:\n",
    "\n",
    "-  What are the lower and upper bounds for the expected value of the portfolio with a 95% confidence interval?\n"
   ]
  },
  {
   "cell_type": "code",
   "execution_count": 38,
   "metadata": {},
   "outputs": [
    {
     "name": "stdout",
     "output_type": "stream",
     "text": [
      "The current balance of the stock and bond of the memebers is $301989.6\n"
     ]
    }
   ],
   "source": [
    "# Print the current balance of the stock and bond portion of the members portfolio\n",
    "# YOUR CODE HERE\n",
    "print(f\"The current balance of the stock and bond of the memebers is ${total_portfolio}\")"
   ]
  },
  {
   "cell_type": "code",
   "execution_count": 39,
   "metadata": {},
   "outputs": [
    {
     "name": "stdout",
     "output_type": "stream",
     "text": [
      "There is a 95% chance that the investment of current balance of the stock and bond in the portfolioover the 30 years will end within in the range of $772485.48 and $5710800.76.\n"
     ]
    }
   ],
   "source": [
    "# Use the lower and upper `95%` confidence intervals to calculate the range of the possible outcomes for the current stock/bond portfolio\n",
    "ci_lower_thirty_cumulative_return = round(summarize_cumulative_return[8]* total_portfolio,2)\n",
    "ci_upper_thirty_cumulative_return = round(summarize_cumulative_return[9]* total_portfolio,2)\n",
    "# Print the result of your calculations\n",
    "# YOUR CODE HERE\n",
    "print(f\"There is a 95% chance that the investment of current balance of the stock and bond in the portfolio\"\n",
    "      f\"over the 30 years will end within in the range of\" \n",
    "      f\" ${ci_lower_thirty_cumulative_return} and ${ci_upper_thirty_cumulative_return }.\")\n"
   ]
  },
  {
   "cell_type": "raw",
   "metadata": {},
   "source": [
    "### Forecast Cumulative Returns in 10 Years\n",
    "\n",
    "The CTO of the credit union is impressed with your work on these planning tools but wonders if 30 years is a long time to wait until retirement. So, your next task is to adjust the retirement portfolio and run a new Monte Carlo simulation to find out if the changes will allow members to retire earlier.\n",
    "\n",
    "For this new Monte Carlo simulation, do the following: \n",
    "\n",
    "- Forecast the cumulative returns for 10 years from now. Because of the shortened investment horizon (30 years to 10 years), the portfolio needs to invest more heavily in the riskier asset&mdash;that is, stock&mdash;to help accumulate wealth for retirement. \n",
    "\n",
    "- Adjust the weights of the retirement portfolio so that the composition for the Monte Carlo simulation consists of 20% bonds and 80% stocks. \n",
    "\n",
    "- Run the simulation over 500 samples, and use the same data that the API call to Alpaca generated.\n",
    "\n",
    "- Based on the new Monte Carlo simulation, answer the following questions in your Jupyter notebook:\n",
    "\n",
    "    - Using the current value of only the stock and bond portion of the member's portfolio and the summary statistics that you generated from the new Monte Carlo simulation, what are the lower and upper bounds for the expected value of the portfolio (with the new weights) with a 95% confidence interval?\n",
    "\n",
    "    - Will weighting the portfolio more heavily toward stocks allow the credit union members to retire after only 10 years?\n"
   ]
  },
  {
   "cell_type": "code",
   "execution_count": 40,
   "metadata": {},
   "outputs": [
    {
     "data": {
      "text/html": [
       "<div>\n",
       "<style scoped>\n",
       "    .dataframe tbody tr th:only-of-type {\n",
       "        vertical-align: middle;\n",
       "    }\n",
       "\n",
       "    .dataframe tbody tr th {\n",
       "        vertical-align: top;\n",
       "    }\n",
       "\n",
       "    .dataframe thead tr th {\n",
       "        text-align: left;\n",
       "    }\n",
       "\n",
       "    .dataframe thead tr:last-of-type th {\n",
       "        text-align: right;\n",
       "    }\n",
       "</style>\n",
       "<table border=\"1\" class=\"dataframe\">\n",
       "  <thead>\n",
       "    <tr>\n",
       "      <th></th>\n",
       "      <th colspan=\"6\" halign=\"left\">AGG</th>\n",
       "      <th colspan=\"6\" halign=\"left\">SPY</th>\n",
       "    </tr>\n",
       "    <tr>\n",
       "      <th></th>\n",
       "      <th>open</th>\n",
       "      <th>high</th>\n",
       "      <th>low</th>\n",
       "      <th>close</th>\n",
       "      <th>volume</th>\n",
       "      <th>daily_return</th>\n",
       "      <th>open</th>\n",
       "      <th>high</th>\n",
       "      <th>low</th>\n",
       "      <th>close</th>\n",
       "      <th>volume</th>\n",
       "      <th>daily_return</th>\n",
       "    </tr>\n",
       "    <tr>\n",
       "      <th>time</th>\n",
       "      <th></th>\n",
       "      <th></th>\n",
       "      <th></th>\n",
       "      <th></th>\n",
       "      <th></th>\n",
       "      <th></th>\n",
       "      <th></th>\n",
       "      <th></th>\n",
       "      <th></th>\n",
       "      <th></th>\n",
       "      <th></th>\n",
       "      <th></th>\n",
       "    </tr>\n",
       "  </thead>\n",
       "  <tbody>\n",
       "    <tr>\n",
       "      <th>2017-08-07 00:00:00-04:00</th>\n",
       "      <td>109.69</td>\n",
       "      <td>109.72</td>\n",
       "      <td>109.6066</td>\n",
       "      <td>109.6850</td>\n",
       "      <td>1425317.0</td>\n",
       "      <td>NaN</td>\n",
       "      <td>247.49</td>\n",
       "      <td>247.87</td>\n",
       "      <td>247.37</td>\n",
       "      <td>247.850</td>\n",
       "      <td>20901988</td>\n",
       "      <td>NaN</td>\n",
       "    </tr>\n",
       "    <tr>\n",
       "      <th>2017-08-08 00:00:00-04:00</th>\n",
       "      <td>109.67</td>\n",
       "      <td>109.69</td>\n",
       "      <td>109.5000</td>\n",
       "      <td>109.5810</td>\n",
       "      <td>1998999.0</td>\n",
       "      <td>-0.000948</td>\n",
       "      <td>247.51</td>\n",
       "      <td>248.91</td>\n",
       "      <td>246.83</td>\n",
       "      <td>247.291</td>\n",
       "      <td>44619069</td>\n",
       "      <td>-0.002255</td>\n",
       "    </tr>\n",
       "    <tr>\n",
       "      <th>2017-08-09 00:00:00-04:00</th>\n",
       "      <td>109.87</td>\n",
       "      <td>109.87</td>\n",
       "      <td>109.6600</td>\n",
       "      <td>109.6700</td>\n",
       "      <td>2069028.0</td>\n",
       "      <td>0.000812</td>\n",
       "      <td>246.47</td>\n",
       "      <td>247.31</td>\n",
       "      <td>246.06</td>\n",
       "      <td>247.230</td>\n",
       "      <td>48543032</td>\n",
       "      <td>-0.000247</td>\n",
       "    </tr>\n",
       "    <tr>\n",
       "      <th>2017-08-10 00:00:00-04:00</th>\n",
       "      <td>109.70</td>\n",
       "      <td>109.85</td>\n",
       "      <td>109.6700</td>\n",
       "      <td>109.8053</td>\n",
       "      <td>1691677.0</td>\n",
       "      <td>0.001234</td>\n",
       "      <td>246.28</td>\n",
       "      <td>246.44</td>\n",
       "      <td>243.70</td>\n",
       "      <td>243.790</td>\n",
       "      <td>87857827</td>\n",
       "      <td>-0.013914</td>\n",
       "    </tr>\n",
       "    <tr>\n",
       "      <th>2017-08-11 00:00:00-04:00</th>\n",
       "      <td>109.75</td>\n",
       "      <td>109.94</td>\n",
       "      <td>109.6800</td>\n",
       "      <td>109.8850</td>\n",
       "      <td>1613467.0</td>\n",
       "      <td>0.000726</td>\n",
       "      <td>244.02</td>\n",
       "      <td>244.80</td>\n",
       "      <td>243.75</td>\n",
       "      <td>244.110</td>\n",
       "      <td>56404847</td>\n",
       "      <td>0.001313</td>\n",
       "    </tr>\n",
       "  </tbody>\n",
       "</table>\n",
       "</div>"
      ],
      "text/plain": [
       "                              AGG                                         \\\n",
       "                             open    high       low     close     volume   \n",
       "time                                                                       \n",
       "2017-08-07 00:00:00-04:00  109.69  109.72  109.6066  109.6850  1425317.0   \n",
       "2017-08-08 00:00:00-04:00  109.67  109.69  109.5000  109.5810  1998999.0   \n",
       "2017-08-09 00:00:00-04:00  109.87  109.87  109.6600  109.6700  2069028.0   \n",
       "2017-08-10 00:00:00-04:00  109.70  109.85  109.6700  109.8053  1691677.0   \n",
       "2017-08-11 00:00:00-04:00  109.75  109.94  109.6800  109.8850  1613467.0   \n",
       "\n",
       "                                           SPY                           \\\n",
       "                          daily_return    open    high     low    close   \n",
       "time                                                                      \n",
       "2017-08-07 00:00:00-04:00          NaN  247.49  247.87  247.37  247.850   \n",
       "2017-08-08 00:00:00-04:00    -0.000948  247.51  248.91  246.83  247.291   \n",
       "2017-08-09 00:00:00-04:00     0.000812  246.47  247.31  246.06  247.230   \n",
       "2017-08-10 00:00:00-04:00     0.001234  246.28  246.44  243.70  243.790   \n",
       "2017-08-11 00:00:00-04:00     0.000726  244.02  244.80  243.75  244.110   \n",
       "\n",
       "                                                  \n",
       "                             volume daily_return  \n",
       "time                                              \n",
       "2017-08-07 00:00:00-04:00  20901988          NaN  \n",
       "2017-08-08 00:00:00-04:00  44619069    -0.002255  \n",
       "2017-08-09 00:00:00-04:00  48543032    -0.000247  \n",
       "2017-08-10 00:00:00-04:00  87857827    -0.013914  \n",
       "2017-08-11 00:00:00-04:00  56404847     0.001313  "
      ]
     },
     "execution_count": 40,
     "metadata": {},
     "output_type": "execute_result"
    }
   ],
   "source": [
    "# Configure a Monte Carlo simulation to forecast 10 years cumulative returns\n",
    "# The weights should be split 20% to AGG and 80% to SPY.\n",
    "# Run 500 samples.\n",
    "# YOUR CODE HERE\n",
    "MC_10y_simulation = MCSimulation(\n",
    "    portfolio_data = pricing_3y_df,\n",
    "    weights=[0.20, 0.80],\n",
    "    num_simulation=500,\n",
    "    num_trading_days=252*10)\n",
    "\n",
    "# Review the simulation input data\n",
    "# YOUR CODE HERE\n",
    "MC_10y_simulation.portfolio_data.head()"
   ]
  },
  {
   "cell_type": "code",
   "execution_count": 41,
   "metadata": {},
   "outputs": [
    {
     "name": "stdout",
     "output_type": "stream",
     "text": [
      "Running Monte Carlo simulation number 0.\n",
      "Running Monte Carlo simulation number 10.\n",
      "Running Monte Carlo simulation number 20.\n",
      "Running Monte Carlo simulation number 30.\n",
      "Running Monte Carlo simulation number 40.\n",
      "Running Monte Carlo simulation number 50.\n",
      "Running Monte Carlo simulation number 60.\n",
      "Running Monte Carlo simulation number 70.\n",
      "Running Monte Carlo simulation number 80.\n",
      "Running Monte Carlo simulation number 90.\n",
      "Running Monte Carlo simulation number 100.\n"
     ]
    },
    {
     "name": "stderr",
     "output_type": "stream",
     "text": [
      "/Users/nicolemann/Desktop/Challenges/5/Challenge-5/MCForecastTools.py:117: PerformanceWarning: DataFrame is highly fragmented.  This is usually the result of calling `frame.insert` many times, which has poor performance.  Consider joining all columns at once using pd.concat(axis=1) instead.  To get a de-fragmented frame, use `newframe = frame.copy()`\n",
      "  portfolio_cumulative_returns[n] = (1 + sim_df.fillna(0)).cumprod()\n"
     ]
    },
    {
     "name": "stdout",
     "output_type": "stream",
     "text": [
      "Running Monte Carlo simulation number 110.\n",
      "Running Monte Carlo simulation number 120.\n",
      "Running Monte Carlo simulation number 130.\n",
      "Running Monte Carlo simulation number 140.\n",
      "Running Monte Carlo simulation number 150.\n",
      "Running Monte Carlo simulation number 160.\n",
      "Running Monte Carlo simulation number 170.\n",
      "Running Monte Carlo simulation number 180.\n",
      "Running Monte Carlo simulation number 190.\n",
      "Running Monte Carlo simulation number 200.\n",
      "Running Monte Carlo simulation number 210.\n",
      "Running Monte Carlo simulation number 220.\n",
      "Running Monte Carlo simulation number 230.\n",
      "Running Monte Carlo simulation number 240.\n",
      "Running Monte Carlo simulation number 250.\n",
      "Running Monte Carlo simulation number 260.\n",
      "Running Monte Carlo simulation number 270.\n",
      "Running Monte Carlo simulation number 280.\n",
      "Running Monte Carlo simulation number 290.\n",
      "Running Monte Carlo simulation number 300.\n",
      "Running Monte Carlo simulation number 310.\n",
      "Running Monte Carlo simulation number 320.\n",
      "Running Monte Carlo simulation number 330.\n",
      "Running Monte Carlo simulation number 340.\n",
      "Running Monte Carlo simulation number 350.\n",
      "Running Monte Carlo simulation number 360.\n",
      "Running Monte Carlo simulation number 370.\n",
      "Running Monte Carlo simulation number 380.\n",
      "Running Monte Carlo simulation number 390.\n",
      "Running Monte Carlo simulation number 400.\n",
      "Running Monte Carlo simulation number 410.\n",
      "Running Monte Carlo simulation number 420.\n",
      "Running Monte Carlo simulation number 430.\n",
      "Running Monte Carlo simulation number 440.\n",
      "Running Monte Carlo simulation number 450.\n",
      "Running Monte Carlo simulation number 460.\n",
      "Running Monte Carlo simulation number 470.\n",
      "Running Monte Carlo simulation number 480.\n",
      "Running Monte Carlo simulation number 490.\n"
     ]
    },
    {
     "data": {
      "text/html": [
       "<div>\n",
       "<style scoped>\n",
       "    .dataframe tbody tr th:only-of-type {\n",
       "        vertical-align: middle;\n",
       "    }\n",
       "\n",
       "    .dataframe tbody tr th {\n",
       "        vertical-align: top;\n",
       "    }\n",
       "\n",
       "    .dataframe thead th {\n",
       "        text-align: right;\n",
       "    }\n",
       "</style>\n",
       "<table border=\"1\" class=\"dataframe\">\n",
       "  <thead>\n",
       "    <tr style=\"text-align: right;\">\n",
       "      <th></th>\n",
       "      <th>0</th>\n",
       "      <th>1</th>\n",
       "      <th>2</th>\n",
       "      <th>3</th>\n",
       "      <th>4</th>\n",
       "      <th>5</th>\n",
       "      <th>6</th>\n",
       "      <th>7</th>\n",
       "      <th>8</th>\n",
       "      <th>9</th>\n",
       "      <th>...</th>\n",
       "      <th>490</th>\n",
       "      <th>491</th>\n",
       "      <th>492</th>\n",
       "      <th>493</th>\n",
       "      <th>494</th>\n",
       "      <th>495</th>\n",
       "      <th>496</th>\n",
       "      <th>497</th>\n",
       "      <th>498</th>\n",
       "      <th>499</th>\n",
       "    </tr>\n",
       "  </thead>\n",
       "  <tbody>\n",
       "    <tr>\n",
       "      <th>0</th>\n",
       "      <td>1.000000</td>\n",
       "      <td>1.000000</td>\n",
       "      <td>1.000000</td>\n",
       "      <td>1.000000</td>\n",
       "      <td>1.000000</td>\n",
       "      <td>1.000000</td>\n",
       "      <td>1.000000</td>\n",
       "      <td>1.000000</td>\n",
       "      <td>1.000000</td>\n",
       "      <td>1.000000</td>\n",
       "      <td>...</td>\n",
       "      <td>1.000000</td>\n",
       "      <td>1.000000</td>\n",
       "      <td>1.000000</td>\n",
       "      <td>1.000000</td>\n",
       "      <td>1.000000</td>\n",
       "      <td>1.000000</td>\n",
       "      <td>1.000000</td>\n",
       "      <td>1.000000</td>\n",
       "      <td>1.000000</td>\n",
       "      <td>1.000000</td>\n",
       "    </tr>\n",
       "    <tr>\n",
       "      <th>1</th>\n",
       "      <td>1.004013</td>\n",
       "      <td>0.968981</td>\n",
       "      <td>1.002310</td>\n",
       "      <td>1.001730</td>\n",
       "      <td>0.998004</td>\n",
       "      <td>0.997137</td>\n",
       "      <td>0.984821</td>\n",
       "      <td>1.016248</td>\n",
       "      <td>1.004577</td>\n",
       "      <td>0.996474</td>\n",
       "      <td>...</td>\n",
       "      <td>0.991852</td>\n",
       "      <td>1.014395</td>\n",
       "      <td>0.994354</td>\n",
       "      <td>0.999178</td>\n",
       "      <td>1.014187</td>\n",
       "      <td>0.997182</td>\n",
       "      <td>1.001038</td>\n",
       "      <td>1.013690</td>\n",
       "      <td>0.989301</td>\n",
       "      <td>0.991616</td>\n",
       "    </tr>\n",
       "    <tr>\n",
       "      <th>2</th>\n",
       "      <td>1.012564</td>\n",
       "      <td>0.984106</td>\n",
       "      <td>0.999195</td>\n",
       "      <td>0.996091</td>\n",
       "      <td>1.010375</td>\n",
       "      <td>0.977679</td>\n",
       "      <td>0.981455</td>\n",
       "      <td>1.025827</td>\n",
       "      <td>1.014527</td>\n",
       "      <td>0.984233</td>\n",
       "      <td>...</td>\n",
       "      <td>0.983618</td>\n",
       "      <td>1.015283</td>\n",
       "      <td>0.998636</td>\n",
       "      <td>1.008866</td>\n",
       "      <td>1.027010</td>\n",
       "      <td>1.003137</td>\n",
       "      <td>1.012148</td>\n",
       "      <td>0.993348</td>\n",
       "      <td>1.004454</td>\n",
       "      <td>0.983048</td>\n",
       "    </tr>\n",
       "    <tr>\n",
       "      <th>3</th>\n",
       "      <td>1.010537</td>\n",
       "      <td>0.978413</td>\n",
       "      <td>1.007904</td>\n",
       "      <td>0.986314</td>\n",
       "      <td>1.004835</td>\n",
       "      <td>0.968604</td>\n",
       "      <td>0.973031</td>\n",
       "      <td>1.044303</td>\n",
       "      <td>1.027543</td>\n",
       "      <td>0.979577</td>\n",
       "      <td>...</td>\n",
       "      <td>0.970059</td>\n",
       "      <td>0.996752</td>\n",
       "      <td>1.029231</td>\n",
       "      <td>1.016779</td>\n",
       "      <td>1.021867</td>\n",
       "      <td>0.999873</td>\n",
       "      <td>1.011701</td>\n",
       "      <td>0.970781</td>\n",
       "      <td>1.012119</td>\n",
       "      <td>0.973632</td>\n",
       "    </tr>\n",
       "    <tr>\n",
       "      <th>4</th>\n",
       "      <td>1.008992</td>\n",
       "      <td>0.982686</td>\n",
       "      <td>1.009648</td>\n",
       "      <td>0.988559</td>\n",
       "      <td>0.983137</td>\n",
       "      <td>0.979128</td>\n",
       "      <td>0.960144</td>\n",
       "      <td>1.053256</td>\n",
       "      <td>1.024503</td>\n",
       "      <td>0.975605</td>\n",
       "      <td>...</td>\n",
       "      <td>0.964476</td>\n",
       "      <td>1.000843</td>\n",
       "      <td>1.016807</td>\n",
       "      <td>1.010819</td>\n",
       "      <td>1.032031</td>\n",
       "      <td>0.997225</td>\n",
       "      <td>1.000305</td>\n",
       "      <td>0.958390</td>\n",
       "      <td>1.015678</td>\n",
       "      <td>0.971716</td>\n",
       "    </tr>\n",
       "    <tr>\n",
       "      <th>...</th>\n",
       "      <td>...</td>\n",
       "      <td>...</td>\n",
       "      <td>...</td>\n",
       "      <td>...</td>\n",
       "      <td>...</td>\n",
       "      <td>...</td>\n",
       "      <td>...</td>\n",
       "      <td>...</td>\n",
       "      <td>...</td>\n",
       "      <td>...</td>\n",
       "      <td>...</td>\n",
       "      <td>...</td>\n",
       "      <td>...</td>\n",
       "      <td>...</td>\n",
       "      <td>...</td>\n",
       "      <td>...</td>\n",
       "      <td>...</td>\n",
       "      <td>...</td>\n",
       "      <td>...</td>\n",
       "      <td>...</td>\n",
       "      <td>...</td>\n",
       "    </tr>\n",
       "    <tr>\n",
       "      <th>2516</th>\n",
       "      <td>8.747423</td>\n",
       "      <td>8.617303</td>\n",
       "      <td>2.454142</td>\n",
       "      <td>5.136376</td>\n",
       "      <td>1.569506</td>\n",
       "      <td>2.607312</td>\n",
       "      <td>2.084788</td>\n",
       "      <td>4.643685</td>\n",
       "      <td>2.679094</td>\n",
       "      <td>1.714841</td>\n",
       "      <td>...</td>\n",
       "      <td>1.897002</td>\n",
       "      <td>2.758896</td>\n",
       "      <td>3.242160</td>\n",
       "      <td>1.957357</td>\n",
       "      <td>2.123692</td>\n",
       "      <td>2.424750</td>\n",
       "      <td>2.638676</td>\n",
       "      <td>2.702615</td>\n",
       "      <td>1.066412</td>\n",
       "      <td>1.969313</td>\n",
       "    </tr>\n",
       "    <tr>\n",
       "      <th>2517</th>\n",
       "      <td>8.652648</td>\n",
       "      <td>8.788276</td>\n",
       "      <td>2.506499</td>\n",
       "      <td>5.093591</td>\n",
       "      <td>1.579884</td>\n",
       "      <td>2.599837</td>\n",
       "      <td>2.045086</td>\n",
       "      <td>4.681948</td>\n",
       "      <td>2.652191</td>\n",
       "      <td>1.715248</td>\n",
       "      <td>...</td>\n",
       "      <td>1.917097</td>\n",
       "      <td>2.794654</td>\n",
       "      <td>3.226441</td>\n",
       "      <td>1.975573</td>\n",
       "      <td>2.109259</td>\n",
       "      <td>2.399978</td>\n",
       "      <td>2.666494</td>\n",
       "      <td>2.693041</td>\n",
       "      <td>1.070434</td>\n",
       "      <td>1.989030</td>\n",
       "    </tr>\n",
       "    <tr>\n",
       "      <th>2518</th>\n",
       "      <td>8.661068</td>\n",
       "      <td>8.842234</td>\n",
       "      <td>2.484017</td>\n",
       "      <td>5.081429</td>\n",
       "      <td>1.562395</td>\n",
       "      <td>2.640618</td>\n",
       "      <td>2.035079</td>\n",
       "      <td>4.754316</td>\n",
       "      <td>2.641438</td>\n",
       "      <td>1.704750</td>\n",
       "      <td>...</td>\n",
       "      <td>1.906013</td>\n",
       "      <td>2.801487</td>\n",
       "      <td>3.235728</td>\n",
       "      <td>1.964994</td>\n",
       "      <td>2.119240</td>\n",
       "      <td>2.387002</td>\n",
       "      <td>2.629313</td>\n",
       "      <td>2.730636</td>\n",
       "      <td>1.066146</td>\n",
       "      <td>1.997231</td>\n",
       "    </tr>\n",
       "    <tr>\n",
       "      <th>2519</th>\n",
       "      <td>8.823635</td>\n",
       "      <td>8.785329</td>\n",
       "      <td>2.495113</td>\n",
       "      <td>5.037496</td>\n",
       "      <td>1.554453</td>\n",
       "      <td>2.651151</td>\n",
       "      <td>2.013958</td>\n",
       "      <td>4.813568</td>\n",
       "      <td>2.641298</td>\n",
       "      <td>1.710391</td>\n",
       "      <td>...</td>\n",
       "      <td>1.880813</td>\n",
       "      <td>2.777592</td>\n",
       "      <td>3.192608</td>\n",
       "      <td>1.980900</td>\n",
       "      <td>2.125568</td>\n",
       "      <td>2.367499</td>\n",
       "      <td>2.621862</td>\n",
       "      <td>2.770022</td>\n",
       "      <td>1.059909</td>\n",
       "      <td>1.989226</td>\n",
       "    </tr>\n",
       "    <tr>\n",
       "      <th>2520</th>\n",
       "      <td>8.850078</td>\n",
       "      <td>8.669300</td>\n",
       "      <td>2.465206</td>\n",
       "      <td>5.012754</td>\n",
       "      <td>1.547122</td>\n",
       "      <td>2.632969</td>\n",
       "      <td>2.008766</td>\n",
       "      <td>4.727578</td>\n",
       "      <td>2.648106</td>\n",
       "      <td>1.669201</td>\n",
       "      <td>...</td>\n",
       "      <td>1.895000</td>\n",
       "      <td>2.761492</td>\n",
       "      <td>3.239648</td>\n",
       "      <td>1.991978</td>\n",
       "      <td>2.128984</td>\n",
       "      <td>2.283524</td>\n",
       "      <td>2.610879</td>\n",
       "      <td>2.723224</td>\n",
       "      <td>1.067756</td>\n",
       "      <td>1.986673</td>\n",
       "    </tr>\n",
       "  </tbody>\n",
       "</table>\n",
       "<p>2521 rows × 500 columns</p>\n",
       "</div>"
      ],
      "text/plain": [
       "           0         1         2         3         4         5         6    \\\n",
       "0     1.000000  1.000000  1.000000  1.000000  1.000000  1.000000  1.000000   \n",
       "1     1.004013  0.968981  1.002310  1.001730  0.998004  0.997137  0.984821   \n",
       "2     1.012564  0.984106  0.999195  0.996091  1.010375  0.977679  0.981455   \n",
       "3     1.010537  0.978413  1.007904  0.986314  1.004835  0.968604  0.973031   \n",
       "4     1.008992  0.982686  1.009648  0.988559  0.983137  0.979128  0.960144   \n",
       "...        ...       ...       ...       ...       ...       ...       ...   \n",
       "2516  8.747423  8.617303  2.454142  5.136376  1.569506  2.607312  2.084788   \n",
       "2517  8.652648  8.788276  2.506499  5.093591  1.579884  2.599837  2.045086   \n",
       "2518  8.661068  8.842234  2.484017  5.081429  1.562395  2.640618  2.035079   \n",
       "2519  8.823635  8.785329  2.495113  5.037496  1.554453  2.651151  2.013958   \n",
       "2520  8.850078  8.669300  2.465206  5.012754  1.547122  2.632969  2.008766   \n",
       "\n",
       "           7         8         9    ...       490       491       492  \\\n",
       "0     1.000000  1.000000  1.000000  ...  1.000000  1.000000  1.000000   \n",
       "1     1.016248  1.004577  0.996474  ...  0.991852  1.014395  0.994354   \n",
       "2     1.025827  1.014527  0.984233  ...  0.983618  1.015283  0.998636   \n",
       "3     1.044303  1.027543  0.979577  ...  0.970059  0.996752  1.029231   \n",
       "4     1.053256  1.024503  0.975605  ...  0.964476  1.000843  1.016807   \n",
       "...        ...       ...       ...  ...       ...       ...       ...   \n",
       "2516  4.643685  2.679094  1.714841  ...  1.897002  2.758896  3.242160   \n",
       "2517  4.681948  2.652191  1.715248  ...  1.917097  2.794654  3.226441   \n",
       "2518  4.754316  2.641438  1.704750  ...  1.906013  2.801487  3.235728   \n",
       "2519  4.813568  2.641298  1.710391  ...  1.880813  2.777592  3.192608   \n",
       "2520  4.727578  2.648106  1.669201  ...  1.895000  2.761492  3.239648   \n",
       "\n",
       "           493       494       495       496       497       498       499  \n",
       "0     1.000000  1.000000  1.000000  1.000000  1.000000  1.000000  1.000000  \n",
       "1     0.999178  1.014187  0.997182  1.001038  1.013690  0.989301  0.991616  \n",
       "2     1.008866  1.027010  1.003137  1.012148  0.993348  1.004454  0.983048  \n",
       "3     1.016779  1.021867  0.999873  1.011701  0.970781  1.012119  0.973632  \n",
       "4     1.010819  1.032031  0.997225  1.000305  0.958390  1.015678  0.971716  \n",
       "...        ...       ...       ...       ...       ...       ...       ...  \n",
       "2516  1.957357  2.123692  2.424750  2.638676  2.702615  1.066412  1.969313  \n",
       "2517  1.975573  2.109259  2.399978  2.666494  2.693041  1.070434  1.989030  \n",
       "2518  1.964994  2.119240  2.387002  2.629313  2.730636  1.066146  1.997231  \n",
       "2519  1.980900  2.125568  2.367499  2.621862  2.770022  1.059909  1.989226  \n",
       "2520  1.991978  2.128984  2.283524  2.610879  2.723224  1.067756  1.986673  \n",
       "\n",
       "[2521 rows x 500 columns]"
      ]
     },
     "execution_count": 41,
     "metadata": {},
     "output_type": "execute_result"
    }
   ],
   "source": [
    "# Run the Monte Carlo simulation to forecast 10 years cumulative returns\n",
    "# YOUR CODE HERE\n",
    "MC_10y_simulation.calc_cumulative_return()"
   ]
  },
  {
   "cell_type": "code",
   "execution_count": 42,
   "metadata": {},
   "outputs": [
    {
     "data": {
      "image/png": "[encoded data removed]",
      "text/plain": [
       "<Figure size 432x288 with 1 Axes>"
      ]
     },
     "metadata": {
      "needs_background": "light"
     },
     "output_type": "display_data"
    }
   ],
   "source": [
    "# Visualize the 10-year Monte Carlo simulation by creating an\n",
    "# overlay line plot\n",
    "# YOUR CODE HERE\n",
    "line_plot = MC_10y_simulation.plot_simulation()"
   ]
  },
  {
   "cell_type": "code",
   "execution_count": 43,
   "metadata": {},
   "outputs": [
    {
     "data": {
      "text/plain": [
       "<AxesSubplot:title={'center':'Distribution of Final Cumuluative Returns Across All 500 Simulations'}, ylabel='Frequency'>"
      ]
     },
     "execution_count": 43,
     "metadata": {},
     "output_type": "execute_result"
    },
    {
     "data": {
      "image/png": "[encoded data removed]",
      "text/plain": [
       "<Figure size 432x288 with 1 Axes>"
      ]
     },
     "metadata": {
      "needs_background": "light"
     },
     "output_type": "display_data"
    }
   ],
   "source": [
    "# Visualize the probability distribution of the 10-year Monte Carlo simulation \n",
    "# by plotting a histogram\n",
    "# YOUR CODE HERE\n",
    "MC_10y_simulation.plot_distribution()"
   ]
  },
  {
   "cell_type": "code",
   "execution_count": 44,
   "metadata": {},
   "outputs": [
    {
     "name": "stdout",
     "output_type": "stream",
     "text": [
      "The 10-year Monte Carlo summary statistics:\n"
     ]
    },
    {
     "data": {
      "text/plain": [
       "count           500.000000\n",
       "mean              2.914373\n",
       "std               1.809594\n",
       "min               0.488906\n",
       "25%               1.621079\n",
       "50%               2.468187\n",
       "75%               3.563359\n",
       "max              10.748496\n",
       "95% CI Lower      0.842533\n",
       "95% CI Upper      8.077561\n",
       "Name: 2520, dtype: float64"
      ]
     },
     "execution_count": 44,
     "metadata": {},
     "output_type": "execute_result"
    }
   ],
   "source": [
    "# Generate summary statistics from the 10-year Monte Carlo simulation results\n",
    "# Save the results as a variable\n",
    "# YOUR CODE HERE\n",
    "summarize_cumulative_return = MC_10y_simulation.summarize_cumulative_return()\n",
    "\n",
    "# Review the 10-year Monte Carlo summary statistics\n",
    "# YOUR CODE HERE\n",
    "print(f\"The 10-year Monte Carlo summary statistics:\")\n",
    "summarize_cumulative_return"
   ]
  },
  {
   "cell_type": "markdown",
   "metadata": {},
   "source": [
    "### Answer the following questions:"
   ]
  },
  {
   "cell_type": "markdown",
   "metadata": {},
   "source": [
    "#### Question: Using the current value of only the stock and bond portion of the member's portfolio and the summary statistics that you generated from the new Monte Carlo simulation, what are the lower and upper bounds for the expected value of the portfolio (with the new weights) with a 95% confidence interval?"
   ]
  },
  {
   "cell_type": "code",
   "execution_count": 45,
   "metadata": {},
   "outputs": [
    {
     "name": "stdout",
     "output_type": "stream",
     "text": [
      "The current balance of the stock and bond of the memebers is $301989.6\n"
     ]
    }
   ],
   "source": [
    "# Print the current balance of the stock and bond portion of the members portfolio\n",
    "# YOUR CODE HERE\n",
    "print(f\"The current balance of the stock and bond of the memebers is ${total_portfolio}\")"
   ]
  },
  {
   "cell_type": "code",
   "execution_count": 46,
   "metadata": {},
   "outputs": [
    {
     "name": "stdout",
     "output_type": "stream",
     "text": [
      "There is a 95% chance that the investment of current balance of the stock and bond in the portfolioover the 10 years will end within in the range of $254436.32 and $2439339.4.\n"
     ]
    }
   ],
   "source": [
    "# Use the lower and upper `95%` confidence intervals to calculate the range of the possible outcomes for the current stock/bond portfolio\n",
    "ci_lower_ten_cumulative_return = round(summarize_cumulative_return[8]* total_portfolio,2)\n",
    "ci_upper_ten_cumulative_return = round(summarize_cumulative_return[9]* total_portfolio,2)\n",
    "# Print the result of your calculations\n",
    "# YOUR CODE HERE\n",
    "print(f\"There is a 95% chance that the investment of current balance of the stock and bond in the portfolio\" \n",
    "      f\"over the 10 years will end within in the range of\" \n",
    "      f\" ${ci_lower_ten_cumulative_return} and ${ci_upper_ten_cumulative_return }.\")\n",
    "\n"
   ]
  },
  {
   "cell_type": "markdown",
   "metadata": {},
   "source": [
    "#### Question: Will weighting the portfolio more heavily to stocks allow the credit union members to retire after only 10 years?"
   ]
  },
  {
   "cell_type": "raw",
   "metadata": {},
   "source": [
    "It depends on the next 10 year's market. If adding more stocks in which will have a higher chance of increasing more than bonds but also are more volatile and not as \"safe\" as the current porfolio. Gennually, they could retire in 10 years if you raised the stock allocation."
   ]
  },
  {
   "cell_type": "code",
   "execution_count": null,
   "metadata": {},
   "outputs": [],
   "source": []
  }
 ],
 "metadata": {
  "kernelspec": {
   "display_name": "dev",
   "language": "python",
   "name": "dev"
  },
  "language_info": {
   "codemirror_mode": {
    "name": "ipython",
    "version": 3
   },
   "file_extension": ".py",
   "mimetype": "text/x-python",
   "name": "python",
   "nbconvert_exporter": "python",
   "pygments_lexer": "ipython3",
   "version": "3.7.11"
  }
 },
 "nbformat": 4,
 "nbformat_minor": 4
}
